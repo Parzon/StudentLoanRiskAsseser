{
 "cells": [
  {
   "cell_type": "markdown",
   "metadata": {},
   "source": [
    "# Student Loan Risk Assesor "
   ]
  },
  {
   "cell_type": "markdown",
   "metadata": {},
   "source": [
    "## Business Understanding "
   ]
  },
  {
   "cell_type": "markdown",
   "metadata": {},
   "source": [
    "### Project Overview\n",
    "In order to identify and distinguish between students who are good loan risks and those who are bad loan risks for the purpose of assessing the creditworthiness of these applicants, a predictive model must be developed to determine the characteristics of both types of students, based on their given individual situations and histories at the time that they applied for the loan. Here, the target variable of 'NoPaymentDue' records whether the given student was behind on their payments after one calendar year that they were supposed to start paying down their loan."
   ]
  },
  {
   "cell_type": "markdown",
   "metadata": {},
   "source": [
    "### Business Objectives\n",
    "* Develop a predictive model to identify and distinguish between students who are likely to be good loan risks and those who are likely to be bad loan risks\n",
    "* Reduce default rates, minimze financial losses of loaning out to students who are bad loan risks, and maximize finanical profits of loaning out to students who are good loan risks\n",
    "* Improve overall decision-making in student loan approval processes"
   ]
  },
  {
   "cell_type": "markdown",
   "metadata": {},
   "source": [
    "## Data Dictionary "
   ]
  },
  {
   "cell_type": "markdown",
   "metadata": {},
   "source": [
    "\n",
    "| Variable Name                 | Role               | Measurement |                |\n",
    "|-------------------------------|--------------------|-------------|----------------|\n",
    "| StudentID                     | ID                 | Interval    |                |\n",
    "| NoPaymentDue                  | Target             | Binary      |                |\n",
    "| Enlisted                      | Input              | Binary      |                |\n",
    "| Service                       | Input              | Nominal     |                |\n",
    "| Disabled                      | Input              | Binary      |                |\n",
    "| Unemployed                    | Input              | Binary      |                |\n",
    "| Enrolled                      | Input              | Binary      |                |\n",
    "| School                        | Input              | Nominal     |                |\n",
    "| Region                        | Input              | Nominal     |                |\n",
    "| Country                       | Input              | Nominal     |                |\n",
    "| Longest_Absence_From_School   | Input              | Interval    |                |\n",
    "| Gender                        | Input              | Binary      |                |\n",
    "| Marital_Status                | Input              | Binary      |                |\n",
    "| Filed_for_Bankruptcy          | Input              | Binary      |                |\n",
    "| LongTermPlanningScore         | Input              | Interval    |                |\n",
    "| DecisionStyle                 | Input              | Nominal     |                |\n",
    "| PowerOrientedScore            | Input              | Interval    |                |\n",
    "| CommunityOrientedScore        | Input              | Interval    |                |\n",
    "| Family_Income                 | Input              | Interval    |                |\n",
    "| Parents' Education Level      | Input              | Ordinal     |                |\n",
    "| Credit Score_Raw              | Input              | Interval    |                |\n",
    "| Credit Score_AgeAdj           | Input              | Interval    |                |\n",
    "| Loan Amount                   | Input              | Interval    |                |\n",
    "| HS_Math                       | Input              | Ordinal     |                |\n",
    "| HS_Science                    | Input              | Ordinal     |                |\n",
    "| HS_English                    | Input              | Ordinal     |                |\n"
   ]
  },
  {
   "cell_type": "markdown",
   "metadata": {},
   "source": [
    "### Functions"
   ]
  },
  {
   "cell_type": "code",
   "execution_count": 1,
   "metadata": {},
   "outputs": [],
   "source": [
    "# Create a metadata dataframe that contains information about the input dataframe\n",
    "def metadata(df):\n",
    "    import pandas as pd\n",
    "    columns_list = list(df.columns.values)\n",
    "    metadata = pd.DataFrame(columns_list, columns=['col_name'])\n",
    "\n",
    "    # Data types\n",
    "    metadata['data_type'] = [i for i in df.dtypes.astype(str)]\n",
    "\n",
    "    # Missing values\n",
    "    metadata['missing_values'] = [i for i in df.isnull().sum()]\n",
    "\n",
    "    # Missing values percentage in two digits number\n",
    "    metadata['missing_values_percentage'] = [round(i*100,2) for i in df.isnull().sum() / df.shape[0]]\n",
    "\n",
    "    # Number of unique values\n",
    "    metadata['unique_values'] = [i for i in df.nunique()]\n",
    "\n",
    "    # Number of unique values percentage\n",
    "    metadata['unique_values_percentage'] = [round(i*100,2) for i in df.nunique() / df.shape[0]]\n",
    "\n",
    "    # Basic statistics for interval columns\n",
    "    interval_columns = [col for col in columns_list if df[col].dtype != 'object']\n",
    "    desc_interval = df[interval_columns].agg(['min', 'max', 'std']).transpose().reset_index().rename(columns={'index': 'col_name'})\n",
    "    metadata = metadata.merge(desc_interval, on='col_name', how='left')\n",
    "\n",
    "    return metadata\n"
   ]
  },
  {
   "cell_type": "code",
   "execution_count": 2,
   "metadata": {},
   "outputs": [],
   "source": [
    "# This is a function for data exploration. It takes in a dataframe, a column name and an optional hue column name.\n",
    "def data_exploration(df, column, hue=None):\n",
    "    import pandas as pd\n",
    "    import seaborn as sns\n",
    "    import matplotlib.pyplot as plt\n",
    "    import numpy as np\n",
    "\n",
    "    # Check if hue is valid\n",
    "    hue_condition = hue and df[hue].nunique() < 10\n",
    "    if hue and not hue_condition:\n",
    "        return \"Hue has more than 10 unique values.\"\n",
    "\n",
    "    # Determine the column type and unique value count\n",
    "    col_type = df[column].dtype\n",
    "    unique_values = df[column].nunique()\n",
    "\n",
    "    # Handling categorical data or numerical with less than 10 unique values\n",
    "    if col_type == 'object' or col_type == 'category':\n",
    "        count_pct = pd.concat([df[column].value_counts(), df[column].value_counts(normalize=True) * 100], axis=1)\n",
    "        count_pct.columns = ['Count', 'Percentage']\n",
    "        print(f\"Counts and percentages of unique values in {column}:\\n{count_pct}\")\n",
    "\n",
    "        # Plotting\n",
    "        if hue_condition:\n",
    "            sns.countplot(data=df, x=column, hue=hue)\n",
    "        else:\n",
    "            sns.countplot(data=df, x=column, hue=column)\n",
    "        plt.title(f\"Distribution of {column}\")\n",
    "        plt.xticks(rotation=45)\n",
    "        plt.grid(True)\n",
    "        plt.tight_layout()\n",
    "        plt.show()\n",
    "\n",
    "    # Handling numerical data with 10 or more unique values\n",
    "    elif unique_values > 10:\n",
    "        # Statistical summary\n",
    "        mean = df[column].mean()\n",
    "        median = df[column].median()\n",
    "        std_dev = df[column].std()\n",
    "        mode = df[column].mode()[0]\n",
    "\n",
    "        # Interquartile range for outlier detection\n",
    "        q1 = df[column].quantile(0.25)\n",
    "        q3 = df[column].quantile(0.75)\n",
    "        iqr = q3 - q1\n",
    "        outlier_range = (q1 - 1.5 * iqr, q3 + 1.5 * iqr)\n",
    "        extreme_outlier_range = (q1 - 3 * iqr, q3 + 3 * iqr)\n",
    "\n",
    "        # Outliers calculation\n",
    "        outliers = df[(df[column] < outlier_range[0]) | (df[column] > outlier_range[1])]\n",
    "        extreme_outliers = df[(df[column] < extreme_outlier_range[0]) | (df[column] > extreme_outlier_range[1])]\n",
    "\n",
    "        # Output statistical information\n",
    "        print(f\"Mean of {column}: {mean:.2f}\")\n",
    "        print(f\"Median of {column}: {median:.2f}\")\n",
    "        print(f\"Standard deviation of {column}: {std_dev:.2f}\")\n",
    "        print(f\"Mode of {column}: {mode}\")\n",
    "        print(f\"Number of outliers in {column}: {len(outliers)}\")\n",
    "        print(f\"Number of extreme outliers in {column}: {len(extreme_outliers)}\")\n",
    "        plt.figure(figsize=(16, 6))\n",
    "        # Box plot as the first subplot\n",
    "        plt.subplot(1, 2, 1)  # 1 row, 2 columns, first subplot\n",
    "        if hue_condition:\n",
    "            sns.boxplot(data=df, x=column, hue=hue)\n",
    "        else:\n",
    "            sns.boxplot(data=df, x=column)\n",
    "        plt.title(f\"Box plot of {column}\")\n",
    "        plt.grid(True)\n",
    "\n",
    "        # Histogram as the second subplot\n",
    "        plt.subplot(1, 2, 2)  # 1 row, 2 columns, second subplot\n",
    "        bins_num = int(np.ceil(np.sqrt(df[column].nunique())))  # Sturges' formula\n",
    "        if hue_condition:\n",
    "            sns.histplot(data=df, x=column, bins=bins_num, kde=True, hue=hue)\n",
    "        else:\n",
    "            sns.histplot(data=df, x=column, bins=bins_num, kde=True)\n",
    "        plt.title(f\"Histogram of {column}\")\n",
    "        plt.grid(True)\n",
    "\n",
    "        # Display the combined figure with both subplots\n",
    "        plt.tight_layout()\n",
    "        plt.show()\n",
    "    elif unique_values <= 10:\n",
    "        count_pct = pd.concat([df[column].value_counts(), df[column].value_counts(normalize=True) * 100], axis=1)\n",
    "        count_pct.columns = ['Count', 'Percentage']\n",
    "        print(f\"Counts and percentages of unique values in {column}:\\n{count_pct}\")\n",
    "\n",
    "        # Plotting\n",
    "        if hue_condition:\n",
    "            sns.countplot(data=df, x=column, hue=hue)\n",
    "        else:\n",
    "            sns.countplot(data=df, x=column, hue=column)\n",
    "        plt.title(f\"Distribution of {column}\")\n",
    "        plt.xticks(rotation=45)\n",
    "        plt.tight_layout()\n",
    "        plt.show()\n",
    "# Example of usage:\n",
    "# data_exploration(your_dataframe, 'your_column_name', hue='your_hue_column')\n"
   ]
  },
  {
   "cell_type": "markdown",
   "metadata": {},
   "source": [
    "## Create Dataset "
   ]
  },
  {
   "cell_type": "markdown",
   "metadata": {},
   "source": [
    "#### Import Libraries "
   ]
  },
  {
   "cell_type": "code",
   "execution_count": 4,
   "metadata": {},
   "outputs": [],
   "source": [
    "import pandas as pd \n",
    "import pandas as pd\n",
    "import numpy as np\n",
    "import matplotlib.pyplot as plt\n",
    "import seaborn as sns"
   ]
  },
  {
   "cell_type": "markdown",
   "metadata": {},
   "source": [
    "### Collect Initial Data "
   ]
  },
  {
   "cell_type": "code",
   "execution_count": 5,
   "metadata": {},
   "outputs": [],
   "source": [
    "# Define a function for reading prolog files\n",
    "def read_pl_file(filename):\n",
    "    with open(filename, 'r') as f:\n",
    "        content = f.readlines()\n",
    "    return content"
   ]
  },
  {
   "cell_type": "code",
   "execution_count": 6,
   "metadata": {},
   "outputs": [],
   "source": [
    "import re"
   ]
  },
  {
   "cell_type": "markdown",
   "metadata": {},
   "source": [
    "##### DF 1"
   ]
  },
  {
   "cell_type": "code",
   "execution_count": 7,
   "metadata": {},
   "outputs": [
    {
     "data": {
      "text/html": [
       "<div>\n",
       "<style scoped>\n",
       "    .dataframe tbody tr th:only-of-type {\n",
       "        vertical-align: middle;\n",
       "    }\n",
       "\n",
       "    .dataframe tbody tr th {\n",
       "        vertical-align: top;\n",
       "    }\n",
       "\n",
       "    .dataframe thead th {\n",
       "        text-align: right;\n",
       "    }\n",
       "</style>\n",
       "<table border=\"1\" class=\"dataframe\">\n",
       "  <thead>\n",
       "    <tr style=\"text-align: right;\">\n",
       "      <th></th>\n",
       "      <th>StudentID</th>\n",
       "      <th>NoPaymentDue</th>\n",
       "    </tr>\n",
       "  </thead>\n",
       "  <tbody>\n",
       "    <tr>\n",
       "      <th>0</th>\n",
       "      <td>1000</td>\n",
       "      <td>pos</td>\n",
       "    </tr>\n",
       "    <tr>\n",
       "      <th>1</th>\n",
       "      <td>999</td>\n",
       "      <td>pos</td>\n",
       "    </tr>\n",
       "    <tr>\n",
       "      <th>2</th>\n",
       "      <td>998</td>\n",
       "      <td>pos</td>\n",
       "    </tr>\n",
       "    <tr>\n",
       "      <th>3</th>\n",
       "      <td>996</td>\n",
       "      <td>pos</td>\n",
       "    </tr>\n",
       "    <tr>\n",
       "      <th>4</th>\n",
       "      <td>994</td>\n",
       "      <td>pos</td>\n",
       "    </tr>\n",
       "  </tbody>\n",
       "</table>\n",
       "</div>"
      ],
      "text/plain": [
       "  StudentID NoPaymentDue\n",
       "0      1000          pos\n",
       "1       999          pos\n",
       "2       998          pos\n",
       "3       996          pos\n",
       "4       994          pos"
      ]
     },
     "metadata": {},
     "output_type": "display_data"
    },
    {
     "data": {
      "text/plain": [
       "(1000, 2)"
      ]
     },
     "metadata": {},
     "output_type": "display_data"
    }
   ],
   "source": [
    "# read the no_payment_due.pl and extract StudentID and NoPaymentDue\n",
    "content1 = read_pl_file(filename='Data /no_payment_due.pl')\n",
    "\n",
    "facts = []\n",
    "for line in content1:\n",
    "    match = re.match(r'no_payment_due\\(student(\\d+),(.+)\\)\\.', line.strip())\n",
    "    if match:\n",
    "        studentid, status = match.groups()\n",
    "        facts.append([studentid, status])\n",
    "        \n",
    "df1 = pd.DataFrame(facts, columns=['StudentID', 'NoPaymentDue'])\n",
    "display(df1.head(), df1.shape)"
   ]
  },
  {
   "cell_type": "code",
   "execution_count": 8,
   "metadata": {},
   "outputs": [
    {
     "name": "stdout",
     "output_type": "stream",
     "text": [
      "<class 'pandas.core.frame.DataFrame'>\n",
      "RangeIndex: 1000 entries, 0 to 999\n",
      "Data columns (total 2 columns):\n",
      " #   Column        Non-Null Count  Dtype \n",
      "---  ------        --------------  ----- \n",
      " 0   StudentID     1000 non-null   object\n",
      " 1   NoPaymentDue  1000 non-null   object\n",
      "dtypes: object(2)\n",
      "memory usage: 15.8+ KB\n"
     ]
    }
   ],
   "source": [
    "df1.info()"
   ]
  },
  {
   "cell_type": "code",
   "execution_count": 9,
   "metadata": {},
   "outputs": [
    {
     "data": {
      "text/plain": [
       "NoPaymentDue\n",
       "pos    643\n",
       "neg    357\n",
       "Name: count, dtype: int64"
      ]
     },
     "execution_count": 9,
     "metadata": {},
     "output_type": "execute_result"
    }
   ],
   "source": [
    "df1['NoPaymentDue'].value_counts()"
   ]
  },
  {
   "cell_type": "code",
   "execution_count": 10,
   "metadata": {},
   "outputs": [],
   "source": [
    "# change the datatype of StudentID to int\n",
    "df1['StudentID'] = df1['StudentID'].astype(int)"
   ]
  },
  {
   "cell_type": "markdown",
   "metadata": {},
   "source": [
    "##### DF 2"
   ]
  },
  {
   "cell_type": "code",
   "execution_count": 11,
   "metadata": {},
   "outputs": [
    {
     "data": {
      "text/html": [
       "<div>\n",
       "<style scoped>\n",
       "    .dataframe tbody tr th:only-of-type {\n",
       "        vertical-align: middle;\n",
       "    }\n",
       "\n",
       "    .dataframe tbody tr th {\n",
       "        vertical-align: top;\n",
       "    }\n",
       "\n",
       "    .dataframe thead th {\n",
       "        text-align: right;\n",
       "    }\n",
       "</style>\n",
       "<table border=\"1\" class=\"dataframe\">\n",
       "  <thead>\n",
       "    <tr style=\"text-align: right;\">\n",
       "      <th></th>\n",
       "      <th>StudentID</th>\n",
       "      <th>Service</th>\n",
       "    </tr>\n",
       "  </thead>\n",
       "  <tbody>\n",
       "    <tr>\n",
       "      <th>0</th>\n",
       "      <td>40</td>\n",
       "      <td>fire_department</td>\n",
       "    </tr>\n",
       "    <tr>\n",
       "      <th>1</th>\n",
       "      <td>51</td>\n",
       "      <td>fire_department</td>\n",
       "    </tr>\n",
       "    <tr>\n",
       "      <th>2</th>\n",
       "      <td>109</td>\n",
       "      <td>fire_department</td>\n",
       "    </tr>\n",
       "    <tr>\n",
       "      <th>3</th>\n",
       "      <td>139</td>\n",
       "      <td>fire_department</td>\n",
       "    </tr>\n",
       "    <tr>\n",
       "      <th>4</th>\n",
       "      <td>148</td>\n",
       "      <td>fire_department</td>\n",
       "    </tr>\n",
       "  </tbody>\n",
       "</table>\n",
       "</div>"
      ],
      "text/plain": [
       "  StudentID          Service\n",
       "0        40  fire_department\n",
       "1        51  fire_department\n",
       "2       109  fire_department\n",
       "3       139  fire_department\n",
       "4       148  fire_department"
      ]
     },
     "metadata": {},
     "output_type": "display_data"
    },
    {
     "data": {
      "text/plain": [
       "(306, 2)"
      ]
     },
     "metadata": {},
     "output_type": "display_data"
    }
   ],
   "source": [
    "# Enlisted file for Enlisted and Service\n",
    "content2 = read_pl_file(filename='Data /enlist.pl')\n",
    "\n",
    "facts = []\n",
    "for line in content2:\n",
    "    match = re.match(r'enlist\\(student(\\d+),(.+)\\)\\.', line.strip())\n",
    "    if match:\n",
    "        studentid, service = match.groups()\n",
    "        facts.append([studentid, service])\n",
    "\n",
    "df2 = pd.DataFrame(facts, columns=['StudentID', 'Service'])\n",
    "display(df2.head(), df2.shape)"
   ]
  },
  {
   "cell_type": "code",
   "execution_count": 12,
   "metadata": {},
   "outputs": [
    {
     "name": "stdout",
     "output_type": "stream",
     "text": [
      "<class 'pandas.core.frame.DataFrame'>\n",
      "RangeIndex: 306 entries, 0 to 305\n",
      "Data columns (total 2 columns):\n",
      " #   Column     Non-Null Count  Dtype \n",
      "---  ------     --------------  ----- \n",
      " 0   StudentID  306 non-null    object\n",
      " 1   Service    306 non-null    object\n",
      "dtypes: object(2)\n",
      "memory usage: 4.9+ KB\n"
     ]
    }
   ],
   "source": [
    "df2.info()"
   ]
  },
  {
   "cell_type": "code",
   "execution_count": 13,
   "metadata": {},
   "outputs": [
    {
     "data": {
      "text/plain": [
       "Service\n",
       "fire_department    114\n",
       "navy                37\n",
       "army                35\n",
       "peace_corps         32\n",
       "marines             31\n",
       "foreign_legion      31\n",
       "air_force           26\n",
       "Name: count, dtype: int64"
      ]
     },
     "execution_count": 13,
     "metadata": {},
     "output_type": "execute_result"
    }
   ],
   "source": [
    "df2['Service'].value_counts()"
   ]
  },
  {
   "cell_type": "code",
   "execution_count": 14,
   "metadata": {},
   "outputs": [],
   "source": [
    "# change the datatype of StudentID to int\n",
    "df2['StudentID'] = df2['StudentID'].astype(int)"
   ]
  },
  {
   "cell_type": "markdown",
   "metadata": {},
   "source": [
    "##### DF 3"
   ]
  },
  {
   "cell_type": "code",
   "execution_count": 15,
   "metadata": {},
   "outputs": [
    {
     "data": {
      "text/html": [
       "<div>\n",
       "<style scoped>\n",
       "    .dataframe tbody tr th:only-of-type {\n",
       "        vertical-align: middle;\n",
       "    }\n",
       "\n",
       "    .dataframe tbody tr th {\n",
       "        vertical-align: top;\n",
       "    }\n",
       "\n",
       "    .dataframe thead th {\n",
       "        text-align: right;\n",
       "    }\n",
       "</style>\n",
       "<table border=\"1\" class=\"dataframe\">\n",
       "  <thead>\n",
       "    <tr style=\"text-align: right;\">\n",
       "      <th></th>\n",
       "      <th>StudentID</th>\n",
       "      <th>Disabled</th>\n",
       "    </tr>\n",
       "  </thead>\n",
       "  <tbody>\n",
       "    <tr>\n",
       "      <th>0</th>\n",
       "      <td>992</td>\n",
       "      <td>Disabled</td>\n",
       "    </tr>\n",
       "    <tr>\n",
       "      <th>1</th>\n",
       "      <td>976</td>\n",
       "      <td>Disabled</td>\n",
       "    </tr>\n",
       "    <tr>\n",
       "      <th>2</th>\n",
       "      <td>963</td>\n",
       "      <td>Disabled</td>\n",
       "    </tr>\n",
       "    <tr>\n",
       "      <th>3</th>\n",
       "      <td>918</td>\n",
       "      <td>Disabled</td>\n",
       "    </tr>\n",
       "    <tr>\n",
       "      <th>4</th>\n",
       "      <td>913</td>\n",
       "      <td>Disabled</td>\n",
       "    </tr>\n",
       "  </tbody>\n",
       "</table>\n",
       "</div>"
      ],
      "text/plain": [
       "  StudentID  Disabled\n",
       "0       992  Disabled\n",
       "1       976  Disabled\n",
       "2       963  Disabled\n",
       "3       918  Disabled\n",
       "4       913  Disabled"
      ]
     },
     "metadata": {},
     "output_type": "display_data"
    },
    {
     "data": {
      "text/plain": [
       "(95, 2)"
      ]
     },
     "metadata": {},
     "output_type": "display_data"
    }
   ],
   "source": [
    "# read Disabled file for Disabled\n",
    "content3 = read_pl_file(filename='Data /disabled.pl')\n",
    "\n",
    "facts = []\n",
    "for line in content3:\n",
    "    match = re.match(r'disabled\\(student(\\d+)\\)\\.', line.strip())\n",
    "    if match:\n",
    "        studentid = match.groups()\n",
    "        facts.append([studentid[0], 'Disabled'])\n",
    "\n",
    "df3 = pd.DataFrame(facts, columns=['StudentID', 'Disabled'])\n",
    "display(df3.head(), df3.shape)"
   ]
  },
  {
   "cell_type": "code",
   "execution_count": 16,
   "metadata": {},
   "outputs": [
    {
     "data": {
      "text/plain": [
       "Disabled\n",
       "Disabled    95\n",
       "Name: count, dtype: int64"
      ]
     },
     "execution_count": 16,
     "metadata": {},
     "output_type": "execute_result"
    }
   ],
   "source": [
    "df3['Disabled'].value_counts()"
   ]
  },
  {
   "cell_type": "code",
   "execution_count": 17,
   "metadata": {},
   "outputs": [],
   "source": [
    "# change the datatype of StudentID to int\n",
    "df3['StudentID'] = df3['StudentID'].astype(int)"
   ]
  },
  {
   "cell_type": "markdown",
   "metadata": {},
   "source": [
    "##### DF 4"
   ]
  },
  {
   "cell_type": "code",
   "execution_count": 18,
   "metadata": {},
   "outputs": [
    {
     "data": {
      "text/html": [
       "<div>\n",
       "<style scoped>\n",
       "    .dataframe tbody tr th:only-of-type {\n",
       "        vertical-align: middle;\n",
       "    }\n",
       "\n",
       "    .dataframe tbody tr th {\n",
       "        vertical-align: top;\n",
       "    }\n",
       "\n",
       "    .dataframe thead th {\n",
       "        text-align: right;\n",
       "    }\n",
       "</style>\n",
       "<table border=\"1\" class=\"dataframe\">\n",
       "  <thead>\n",
       "    <tr style=\"text-align: right;\">\n",
       "      <th></th>\n",
       "      <th>StudentID</th>\n",
       "      <th>Unemployed</th>\n",
       "    </tr>\n",
       "  </thead>\n",
       "  <tbody>\n",
       "    <tr>\n",
       "      <th>0</th>\n",
       "      <td>1000</td>\n",
       "      <td>Unemployed</td>\n",
       "    </tr>\n",
       "    <tr>\n",
       "      <th>1</th>\n",
       "      <td>996</td>\n",
       "      <td>Unemployed</td>\n",
       "    </tr>\n",
       "    <tr>\n",
       "      <th>2</th>\n",
       "      <td>993</td>\n",
       "      <td>Unemployed</td>\n",
       "    </tr>\n",
       "    <tr>\n",
       "      <th>3</th>\n",
       "      <td>948</td>\n",
       "      <td>Unemployed</td>\n",
       "    </tr>\n",
       "    <tr>\n",
       "      <th>4</th>\n",
       "      <td>946</td>\n",
       "      <td>Unemployed</td>\n",
       "    </tr>\n",
       "  </tbody>\n",
       "</table>\n",
       "</div>"
      ],
      "text/plain": [
       "  StudentID  Unemployed\n",
       "0      1000  Unemployed\n",
       "1       996  Unemployed\n",
       "2       993  Unemployed\n",
       "3       948  Unemployed\n",
       "4       946  Unemployed"
      ]
     },
     "metadata": {},
     "output_type": "display_data"
    },
    {
     "data": {
      "text/plain": [
       "(98, 2)"
      ]
     },
     "metadata": {},
     "output_type": "display_data"
    }
   ],
   "source": [
    "# read Unemployed file for Unemployed\n",
    "content4 = read_pl_file(filename='Data /unemployed.pl')\n",
    "\n",
    "facts = []\n",
    "for line in content4:\n",
    "    match = re.match(r'unemployed\\(student(\\d+)\\)\\.', line.strip())\n",
    "    if match:\n",
    "        studentid = match.groups()\n",
    "        facts.append([studentid[0], 'Unemployed'])\n",
    "\n",
    "df4 = pd.DataFrame(facts, columns=['StudentID', 'Unemployed'])\n",
    "display(df4.head(), df4.shape)"
   ]
  },
  {
   "cell_type": "code",
   "execution_count": 19,
   "metadata": {},
   "outputs": [
    {
     "data": {
      "text/plain": [
       "Unemployed\n",
       "Unemployed    98\n",
       "Name: count, dtype: int64"
      ]
     },
     "execution_count": 19,
     "metadata": {},
     "output_type": "execute_result"
    }
   ],
   "source": [
    "df4['Unemployed'].value_counts()"
   ]
  },
  {
   "cell_type": "code",
   "execution_count": 20,
   "metadata": {},
   "outputs": [],
   "source": [
    "# change the datatype of StudentID to int\n",
    "df4['StudentID'] = df4['StudentID'].astype(int)"
   ]
  },
  {
   "cell_type": "markdown",
   "metadata": {},
   "source": [
    "##### DF 5"
   ]
  },
  {
   "cell_type": "code",
   "execution_count": 21,
   "metadata": {},
   "outputs": [
    {
     "data": {
      "text/html": [
       "<div>\n",
       "<style scoped>\n",
       "    .dataframe tbody tr th:only-of-type {\n",
       "        vertical-align: middle;\n",
       "    }\n",
       "\n",
       "    .dataframe tbody tr th {\n",
       "        vertical-align: top;\n",
       "    }\n",
       "\n",
       "    .dataframe thead th {\n",
       "        text-align: right;\n",
       "    }\n",
       "</style>\n",
       "<table border=\"1\" class=\"dataframe\">\n",
       "  <thead>\n",
       "    <tr style=\"text-align: right;\">\n",
       "      <th></th>\n",
       "      <th>StudentID</th>\n",
       "      <th>School</th>\n",
       "      <th>Units</th>\n",
       "    </tr>\n",
       "  </thead>\n",
       "  <tbody>\n",
       "    <tr>\n",
       "      <th>0</th>\n",
       "      <td>10</td>\n",
       "      <td>ucb</td>\n",
       "      <td>2</td>\n",
       "    </tr>\n",
       "    <tr>\n",
       "      <th>1</th>\n",
       "      <td>18</td>\n",
       "      <td>ucsd</td>\n",
       "      <td>4</td>\n",
       "    </tr>\n",
       "    <tr>\n",
       "      <th>2</th>\n",
       "      <td>20</td>\n",
       "      <td>ucsd</td>\n",
       "      <td>3</td>\n",
       "    </tr>\n",
       "    <tr>\n",
       "      <th>3</th>\n",
       "      <td>35</td>\n",
       "      <td>ucsd</td>\n",
       "      <td>4</td>\n",
       "    </tr>\n",
       "    <tr>\n",
       "      <th>4</th>\n",
       "      <td>44</td>\n",
       "      <td>ucsd</td>\n",
       "      <td>1</td>\n",
       "    </tr>\n",
       "  </tbody>\n",
       "</table>\n",
       "</div>"
      ],
      "text/plain": [
       "  StudentID School Units\n",
       "0        10    ucb     2\n",
       "1        18   ucsd     4\n",
       "2        20   ucsd     3\n",
       "3        35   ucsd     4\n",
       "4        44   ucsd     1"
      ]
     },
     "metadata": {},
     "output_type": "display_data"
    },
    {
     "data": {
      "text/plain": [
       "(1194, 3)"
      ]
     },
     "metadata": {},
     "output_type": "display_data"
    }
   ],
   "source": [
    "# read Enrolled file for Enrolled and School\n",
    "content5 = read_pl_file(filename = 'Data /enrolled.pl')\n",
    "\n",
    "facts = []\n",
    "for line in content5:\n",
    "    match = re.match(r'enrolled\\(student(\\d+),(.+),(.+)\\)\\.', line.strip())\n",
    "    if match:\n",
    "        studentid, school, units = match.groups()\n",
    "        facts.append([studentid, school, units])\n",
    "\n",
    "df5 = pd.DataFrame(facts, columns=['StudentID', 'School', 'Units'])\n",
    "display(df5.head(), df5.shape)"
   ]
  },
  {
   "cell_type": "code",
   "execution_count": 22,
   "metadata": {},
   "outputs": [
    {
     "data": {
      "text/plain": [
       "School\n",
       "occ     247\n",
       "ucla    236\n",
       "uci     230\n",
       "smc     226\n",
       "ucsd    166\n",
       "ucb      89\n",
       "Name: count, dtype: int64"
      ]
     },
     "execution_count": 22,
     "metadata": {},
     "output_type": "execute_result"
    }
   ],
   "source": [
    "df5['School'].value_counts()"
   ]
  },
  {
   "cell_type": "code",
   "execution_count": 23,
   "metadata": {},
   "outputs": [
    {
     "data": {
      "text/plain": [
       "Units\n",
       "3     131\n",
       "4     126\n",
       "1     108\n",
       "2     107\n",
       "10    105\n",
       "9      94\n",
       "6      89\n",
       "5      88\n",
       "12     87\n",
       "11     80\n",
       "7      69\n",
       "8      68\n",
       "15     16\n",
       "14     14\n",
       "13     12\n",
       "Name: count, dtype: int64"
      ]
     },
     "execution_count": 23,
     "metadata": {},
     "output_type": "execute_result"
    }
   ],
   "source": [
    "df5['Units'].value_counts()"
   ]
  },
  {
   "cell_type": "code",
   "execution_count": 24,
   "metadata": {},
   "outputs": [],
   "source": [
    "# change the data type of Units from object to int\n",
    "df5['Units'] = df5['Units'].astype(int)\n",
    "\n",
    "# change the datatype of StudentID to int\n",
    "df5['StudentID'] = df5['StudentID'].astype(int)"
   ]
  },
  {
   "cell_type": "markdown",
   "metadata": {},
   "source": [
    "##### DF 6"
   ]
  },
  {
   "cell_type": "code",
   "execution_count": 25,
   "metadata": {},
   "outputs": [
    {
     "data": {
      "text/html": [
       "<div>\n",
       "<style scoped>\n",
       "    .dataframe tbody tr th:only-of-type {\n",
       "        vertical-align: middle;\n",
       "    }\n",
       "\n",
       "    .dataframe tbody tr th {\n",
       "        vertical-align: top;\n",
       "    }\n",
       "\n",
       "    .dataframe thead th {\n",
       "        text-align: right;\n",
       "    }\n",
       "</style>\n",
       "<table border=\"1\" class=\"dataframe\">\n",
       "  <thead>\n",
       "    <tr style=\"text-align: right;\">\n",
       "      <th></th>\n",
       "      <th>StudentID</th>\n",
       "      <th>Country</th>\n",
       "      <th>Region</th>\n",
       "      <th>Marital_Status</th>\n",
       "    </tr>\n",
       "  </thead>\n",
       "  <tbody>\n",
       "    <tr>\n",
       "      <th>0</th>\n",
       "      <td>1</td>\n",
       "      <td>USA</td>\n",
       "      <td>2</td>\n",
       "      <td>1</td>\n",
       "    </tr>\n",
       "    <tr>\n",
       "      <th>1</th>\n",
       "      <td>2</td>\n",
       "      <td>USA</td>\n",
       "      <td>5</td>\n",
       "      <td>0</td>\n",
       "    </tr>\n",
       "    <tr>\n",
       "      <th>2</th>\n",
       "      <td>3</td>\n",
       "      <td>USA</td>\n",
       "      <td>2</td>\n",
       "      <td>1</td>\n",
       "    </tr>\n",
       "    <tr>\n",
       "      <th>3</th>\n",
       "      <td>4</td>\n",
       "      <td>USA</td>\n",
       "      <td>1</td>\n",
       "      <td>0</td>\n",
       "    </tr>\n",
       "    <tr>\n",
       "      <th>4</th>\n",
       "      <td>5</td>\n",
       "      <td>USA</td>\n",
       "      <td>3</td>\n",
       "      <td>0</td>\n",
       "    </tr>\n",
       "  </tbody>\n",
       "</table>\n",
       "</div>"
      ],
      "text/plain": [
       "   StudentID Country  Region  Marital_Status\n",
       "0          1     USA       2               1\n",
       "1          2     USA       5               0\n",
       "2          3     USA       2               1\n",
       "3          4     USA       1               0\n",
       "4          5     USA       3               0"
      ]
     },
     "metadata": {},
     "output_type": "display_data"
    },
    {
     "data": {
      "text/plain": [
       "(1000, 4)"
      ]
     },
     "metadata": {},
     "output_type": "display_data"
    }
   ],
   "source": [
    "# read Region file for Country, Region, Marital_Status\n",
    "# from Region,Martial Status.xlsx\n",
    "df6 = pd.read_excel('Data /Region, Marital Status.xlsx')\n",
    "df6.columns = ['StudentID', 'Country', 'Region', 'Marital_Status']\n",
    "display(df6.head(), df6.shape)"
   ]
  },
  {
   "cell_type": "code",
   "execution_count": 26,
   "metadata": {},
   "outputs": [],
   "source": [
    "# change the datatype of StudentID, Region, Marital_Status to int\n",
    "df6['StudentID'] = df6['StudentID'].astype(int)\n",
    "df6['Region'] = df6['Region'].astype(int)\n",
    "df6['Marital_Status'] = df6['Marital_Status'].astype(int)"
   ]
  },
  {
   "cell_type": "markdown",
   "metadata": {},
   "source": [
    "##### DF 7 "
   ]
  },
  {
   "cell_type": "code",
   "execution_count": 27,
   "metadata": {},
   "outputs": [
    {
     "data": {
      "text/html": [
       "<div>\n",
       "<style scoped>\n",
       "    .dataframe tbody tr th:only-of-type {\n",
       "        vertical-align: middle;\n",
       "    }\n",
       "\n",
       "    .dataframe tbody tr th {\n",
       "        vertical-align: top;\n",
       "    }\n",
       "\n",
       "    .dataframe thead th {\n",
       "        text-align: right;\n",
       "    }\n",
       "</style>\n",
       "<table border=\"1\" class=\"dataframe\">\n",
       "  <thead>\n",
       "    <tr style=\"text-align: right;\">\n",
       "      <th></th>\n",
       "      <th>StudentID</th>\n",
       "      <th>Gender</th>\n",
       "    </tr>\n",
       "  </thead>\n",
       "  <tbody>\n",
       "    <tr>\n",
       "      <th>0</th>\n",
       "      <td>997</td>\n",
       "      <td>Male</td>\n",
       "    </tr>\n",
       "    <tr>\n",
       "      <th>1</th>\n",
       "      <td>994</td>\n",
       "      <td>Male</td>\n",
       "    </tr>\n",
       "    <tr>\n",
       "      <th>2</th>\n",
       "      <td>992</td>\n",
       "      <td>Male</td>\n",
       "    </tr>\n",
       "    <tr>\n",
       "      <th>3</th>\n",
       "      <td>987</td>\n",
       "      <td>Male</td>\n",
       "    </tr>\n",
       "    <tr>\n",
       "      <th>4</th>\n",
       "      <td>986</td>\n",
       "      <td>Male</td>\n",
       "    </tr>\n",
       "  </tbody>\n",
       "</table>\n",
       "</div>"
      ],
      "text/plain": [
       "  StudentID Gender\n",
       "0       997   Male\n",
       "1       994   Male\n",
       "2       992   Male\n",
       "3       987   Male\n",
       "4       986   Male"
      ]
     },
     "metadata": {},
     "output_type": "display_data"
    },
    {
     "data": {
      "text/plain": [
       "(497, 2)"
      ]
     },
     "metadata": {},
     "output_type": "display_data"
    }
   ],
   "source": [
    "# read male.pl for Gender\n",
    "content7 = read_pl_file(filename = 'Data /male.pl')\n",
    "\n",
    "facts = []\n",
    "for line in content7:\n",
    "    match = re.match(r'male\\(student(\\d+)\\)\\.', line.strip())\n",
    "    if match:\n",
    "        studentid = match.groups()\n",
    "        facts.append([studentid[0],'Male'])\n",
    "\n",
    "df7 = pd.DataFrame(facts,columns=['StudentID', 'Gender'])\n",
    "display(df7.head(), df7.shape)\n",
    "        "
   ]
  },
  {
   "cell_type": "code",
   "execution_count": 28,
   "metadata": {},
   "outputs": [
    {
     "data": {
      "text/plain": [
       "Gender\n",
       "Male    497\n",
       "Name: count, dtype: int64"
      ]
     },
     "execution_count": 28,
     "metadata": {},
     "output_type": "execute_result"
    }
   ],
   "source": [
    "df7['Gender'].value_counts()"
   ]
  },
  {
   "cell_type": "code",
   "execution_count": 29,
   "metadata": {},
   "outputs": [],
   "source": [
    "# change the datatype of StudentID to int\n",
    "df7['StudentID'] = df7['StudentID'].astype(int)"
   ]
  },
  {
   "cell_type": "markdown",
   "metadata": {},
   "source": [
    "##### DF 8"
   ]
  },
  {
   "cell_type": "code",
   "execution_count": 30,
   "metadata": {},
   "outputs": [
    {
     "data": {
      "text/html": [
       "<div>\n",
       "<style scoped>\n",
       "    .dataframe tbody tr th:only-of-type {\n",
       "        vertical-align: middle;\n",
       "    }\n",
       "\n",
       "    .dataframe tbody tr th {\n",
       "        vertical-align: top;\n",
       "    }\n",
       "\n",
       "    .dataframe thead th {\n",
       "        text-align: right;\n",
       "    }\n",
       "</style>\n",
       "<table border=\"1\" class=\"dataframe\">\n",
       "  <thead>\n",
       "    <tr style=\"text-align: right;\">\n",
       "      <th></th>\n",
       "      <th>StudentID</th>\n",
       "      <th>Longest_Absence_From_School</th>\n",
       "    </tr>\n",
       "  </thead>\n",
       "  <tbody>\n",
       "    <tr>\n",
       "      <th>0</th>\n",
       "      <td>1000</td>\n",
       "      <td>7</td>\n",
       "    </tr>\n",
       "    <tr>\n",
       "      <th>1</th>\n",
       "      <td>999</td>\n",
       "      <td>4</td>\n",
       "    </tr>\n",
       "    <tr>\n",
       "      <th>2</th>\n",
       "      <td>998</td>\n",
       "      <td>1</td>\n",
       "    </tr>\n",
       "    <tr>\n",
       "      <th>3</th>\n",
       "      <td>997</td>\n",
       "      <td>8</td>\n",
       "    </tr>\n",
       "    <tr>\n",
       "      <th>4</th>\n",
       "      <td>996</td>\n",
       "      <td>7</td>\n",
       "    </tr>\n",
       "  </tbody>\n",
       "</table>\n",
       "</div>"
      ],
      "text/plain": [
       "  StudentID Longest_Absence_From_School\n",
       "0      1000                           7\n",
       "1       999                           4\n",
       "2       998                           1\n",
       "3       997                           8\n",
       "4       996                           7"
      ]
     },
     "metadata": {},
     "output_type": "display_data"
    },
    {
     "data": {
      "text/plain": [
       "(1000, 2)"
      ]
     },
     "metadata": {},
     "output_type": "display_data"
    }
   ],
   "source": [
    "# read longest_absense_from_school.pl for Longest_Absence_From_School\n",
    "content8 = read_pl_file(filename = 'Data /longest_absense_from_school.pl')\n",
    "\n",
    "facts = []\n",
    "for line in content8:\n",
    "    match = re.match(r'longest_absense_from_school\\(student(\\d+),(.+)\\)\\.', line.strip())\n",
    "    if match:\n",
    "        studentid, months = match.groups()\n",
    "        facts.append([studentid, months])\n",
    "\n",
    "df8 = pd.DataFrame(facts,columns=['StudentID', 'Longest_Absence_From_School'])\n",
    "display(df8.head(), df8.shape)"
   ]
  },
  {
   "cell_type": "code",
   "execution_count": 31,
   "metadata": {},
   "outputs": [
    {
     "data": {
      "text/plain": [
       "Longest_Absence_From_School\n",
       "4    120\n",
       "5    110\n",
       "3    104\n",
       "0    100\n",
       "7     99\n",
       "2     96\n",
       "6     95\n",
       "1     93\n",
       "8     93\n",
       "9     90\n",
       "Name: count, dtype: int64"
      ]
     },
     "execution_count": 31,
     "metadata": {},
     "output_type": "execute_result"
    }
   ],
   "source": [
    "df8['Longest_Absence_From_School'].value_counts()"
   ]
  },
  {
   "cell_type": "code",
   "execution_count": 32,
   "metadata": {},
   "outputs": [],
   "source": [
    "# change the datatype of StudentID to int\n",
    "df8['StudentID'] = df8['StudentID'].astype(int)"
   ]
  },
  {
   "cell_type": "markdown",
   "metadata": {},
   "source": [
    "##### DF 9"
   ]
  },
  {
   "cell_type": "code",
   "execution_count": 33,
   "metadata": {},
   "outputs": [
    {
     "data": {
      "text/html": [
       "<div>\n",
       "<style scoped>\n",
       "    .dataframe tbody tr th:only-of-type {\n",
       "        vertical-align: middle;\n",
       "    }\n",
       "\n",
       "    .dataframe tbody tr th {\n",
       "        vertical-align: top;\n",
       "    }\n",
       "\n",
       "    .dataframe thead th {\n",
       "        text-align: right;\n",
       "    }\n",
       "</style>\n",
       "<table border=\"1\" class=\"dataframe\">\n",
       "  <thead>\n",
       "    <tr style=\"text-align: right;\">\n",
       "      <th></th>\n",
       "      <th>StudentID</th>\n",
       "      <th>Filed_For_Bankruptcy</th>\n",
       "    </tr>\n",
       "  </thead>\n",
       "  <tbody>\n",
       "    <tr>\n",
       "      <th>0</th>\n",
       "      <td>999</td>\n",
       "      <td>Filed_For_Bankruptcy</td>\n",
       "    </tr>\n",
       "    <tr>\n",
       "      <th>1</th>\n",
       "      <td>998</td>\n",
       "      <td>Filed_For_Bankruptcy</td>\n",
       "    </tr>\n",
       "    <tr>\n",
       "      <th>2</th>\n",
       "      <td>958</td>\n",
       "      <td>Filed_For_Bankruptcy</td>\n",
       "    </tr>\n",
       "    <tr>\n",
       "      <th>3</th>\n",
       "      <td>956</td>\n",
       "      <td>Filed_For_Bankruptcy</td>\n",
       "    </tr>\n",
       "    <tr>\n",
       "      <th>4</th>\n",
       "      <td>953</td>\n",
       "      <td>Filed_For_Bankruptcy</td>\n",
       "    </tr>\n",
       "  </tbody>\n",
       "</table>\n",
       "</div>"
      ],
      "text/plain": [
       "  StudentID  Filed_For_Bankruptcy\n",
       "0       999  Filed_For_Bankruptcy\n",
       "1       998  Filed_For_Bankruptcy\n",
       "2       958  Filed_For_Bankruptcy\n",
       "3       956  Filed_For_Bankruptcy\n",
       "4       953  Filed_For_Bankruptcy"
      ]
     },
     "metadata": {},
     "output_type": "display_data"
    },
    {
     "data": {
      "text/plain": [
       "(96, 2)"
      ]
     },
     "metadata": {},
     "output_type": "display_data"
    }
   ],
   "source": [
    "# read filed_for_bankrupcy.pl for Filed_For_Bankruptcy\n",
    "content9 = read_pl_file(filename = 'Data /filed_for_bankrupcy.pl')\n",
    "\n",
    "facts = []\n",
    "for line in content9:\n",
    "    match = re.match(r'filed_for_bankrupcy\\(student(\\d+)\\)\\.', line.strip())\n",
    "    if match:\n",
    "        studentid = match.groups()\n",
    "        facts.append([studentid[0], 'Filed_For_Bankruptcy'])\n",
    "\n",
    "df9 = pd.DataFrame(facts,columns=['StudentID', 'Filed_For_Bankruptcy'])\n",
    "display(df9.head(), df9.shape)"
   ]
  },
  {
   "cell_type": "code",
   "execution_count": 34,
   "metadata": {},
   "outputs": [
    {
     "data": {
      "text/plain": [
       "Filed_For_Bankruptcy\n",
       "Filed_For_Bankruptcy    96\n",
       "Name: count, dtype: int64"
      ]
     },
     "execution_count": 34,
     "metadata": {},
     "output_type": "execute_result"
    }
   ],
   "source": [
    "df9['Filed_For_Bankruptcy'].value_counts()"
   ]
  },
  {
   "cell_type": "code",
   "execution_count": 35,
   "metadata": {},
   "outputs": [],
   "source": [
    "# change the datatype of StudentID to int\n",
    "df9['StudentID'] = df9['StudentID'].astype(int)"
   ]
  },
  {
   "cell_type": "markdown",
   "metadata": {},
   "source": [
    "##### DF 10"
   ]
  },
  {
   "cell_type": "code",
   "execution_count": 36,
   "metadata": {},
   "outputs": [
    {
     "data": {
      "text/html": [
       "<div>\n",
       "<style scoped>\n",
       "    .dataframe tbody tr th:only-of-type {\n",
       "        vertical-align: middle;\n",
       "    }\n",
       "\n",
       "    .dataframe tbody tr th {\n",
       "        vertical-align: top;\n",
       "    }\n",
       "\n",
       "    .dataframe thead th {\n",
       "        text-align: right;\n",
       "    }\n",
       "</style>\n",
       "<table border=\"1\" class=\"dataframe\">\n",
       "  <thead>\n",
       "    <tr style=\"text-align: right;\">\n",
       "      <th></th>\n",
       "      <th>StudentID</th>\n",
       "      <th>LongTermPlanningScore</th>\n",
       "      <th>DecisionStyle</th>\n",
       "      <th>PowerOrientedScore</th>\n",
       "      <th>CommunityOrientedScore</th>\n",
       "    </tr>\n",
       "  </thead>\n",
       "  <tbody>\n",
       "    <tr>\n",
       "      <th>0</th>\n",
       "      <td>1</td>\n",
       "      <td>0.956004</td>\n",
       "      <td>Emotional</td>\n",
       "      <td>0.767967</td>\n",
       "      <td>0.189491</td>\n",
       "    </tr>\n",
       "    <tr>\n",
       "      <th>1</th>\n",
       "      <td>2</td>\n",
       "      <td>0.601589</td>\n",
       "      <td>Analytical</td>\n",
       "      <td>1.000000</td>\n",
       "      <td>0.529815</td>\n",
       "    </tr>\n",
       "    <tr>\n",
       "      <th>2</th>\n",
       "      <td>3</td>\n",
       "      <td>0.655254</td>\n",
       "      <td>Emotional</td>\n",
       "      <td>0.589539</td>\n",
       "      <td>0.589539</td>\n",
       "    </tr>\n",
       "    <tr>\n",
       "      <th>3</th>\n",
       "      <td>4</td>\n",
       "      <td>0.841278</td>\n",
       "      <td>Emotional</td>\n",
       "      <td>0.805702</td>\n",
       "      <td>0.061538</td>\n",
       "    </tr>\n",
       "    <tr>\n",
       "      <th>4</th>\n",
       "      <td>5</td>\n",
       "      <td>0.738851</td>\n",
       "      <td>Emotional</td>\n",
       "      <td>0.415433</td>\n",
       "      <td>0.241257</td>\n",
       "    </tr>\n",
       "  </tbody>\n",
       "</table>\n",
       "</div>"
      ],
      "text/plain": [
       "   StudentID  LongTermPlanningScore DecisionStyle  PowerOrientedScore  \\\n",
       "0          1               0.956004     Emotional            0.767967   \n",
       "1          2               0.601589    Analytical            1.000000   \n",
       "2          3               0.655254     Emotional            0.589539   \n",
       "3          4               0.841278     Emotional            0.805702   \n",
       "4          5               0.738851     Emotional            0.415433   \n",
       "\n",
       "   CommunityOrientedScore  \n",
       "0                0.189491  \n",
       "1                0.529815  \n",
       "2                0.589539  \n",
       "3                0.061538  \n",
       "4                0.241257  "
      ]
     },
     "metadata": {},
     "output_type": "display_data"
    },
    {
     "data": {
      "text/plain": [
       "(1000, 5)"
      ]
     },
     "metadata": {},
     "output_type": "display_data"
    }
   ],
   "source": [
    "# read Personality Characteristics file for LongTermPlanningScore, DecisionStyle, PowerOrientedScore, CommunityOrientedScore\n",
    "df10 = pd.read_excel('Data /Personality Characteristics Data.xlsx')\n",
    "df10.columns = ['StudentID', 'LongTermPlanningScore', 'DecisionStyle', 'PowerOrientedScore', 'CommunityOrientedScore']\n",
    "display(df10.head(), df10.shape)"
   ]
  },
  {
   "cell_type": "code",
   "execution_count": 37,
   "metadata": {},
   "outputs": [
    {
     "data": {
      "text/plain": [
       "StudentID\n",
       "1       1\n",
       "672     1\n",
       "659     1\n",
       "660     1\n",
       "661     1\n",
       "       ..\n",
       "339     1\n",
       "340     1\n",
       "341     1\n",
       "342     1\n",
       "1000    1\n",
       "Name: count, Length: 1000, dtype: int64"
      ]
     },
     "metadata": {},
     "output_type": "display_data"
    },
    {
     "data": {
      "text/plain": [
       "LongTermPlanningScore\n",
       "0.956004    1\n",
       "0.798902    1\n",
       "0.954288    1\n",
       "0.792797    1\n",
       "0.803643    1\n",
       "           ..\n",
       "0.907420    1\n",
       "0.837065    1\n",
       "0.715328    1\n",
       "0.699305    1\n",
       "0.843289    1\n",
       "Name: count, Length: 1000, dtype: int64"
      ]
     },
     "metadata": {},
     "output_type": "display_data"
    },
    {
     "data": {
      "text/plain": [
       "DecisionStyle\n",
       "Emotional     914\n",
       "Analytical     86\n",
       "Name: count, dtype: int64"
      ]
     },
     "metadata": {},
     "output_type": "display_data"
    },
    {
     "data": {
      "text/plain": [
       "PowerOrientedScore\n",
       "1.000000    41\n",
       "0.767967     1\n",
       "0.582612     1\n",
       "0.748088     1\n",
       "0.958999     1\n",
       "            ..\n",
       "0.559756     1\n",
       "0.718353     1\n",
       "0.767816     1\n",
       "0.572930     1\n",
       "0.808111     1\n",
       "Name: count, Length: 960, dtype: int64"
      ]
     },
     "metadata": {},
     "output_type": "display_data"
    },
    {
     "data": {
      "text/plain": [
       "CommunityOrientedScore\n",
       "0.189491    1\n",
       "0.545317    1\n",
       "0.528228    1\n",
       "0.697897    1\n",
       "0.000108    1\n",
       "           ..\n",
       "0.124746    1\n",
       "0.013886    1\n",
       "0.572930    1\n",
       "0.140975    1\n",
       "0.569837    1\n",
       "Name: count, Length: 1000, dtype: int64"
      ]
     },
     "metadata": {},
     "output_type": "display_data"
    }
   ],
   "source": [
    "for i in df10.columns:\n",
    "    display(df10[i].value_counts())"
   ]
  },
  {
   "cell_type": "code",
   "execution_count": 38,
   "metadata": {},
   "outputs": [],
   "source": [
    "# change the datatype of StudentID to int\n",
    "df10['StudentID'] = df10['StudentID'].astype(int)\n",
    "\n",
    "# change the datatype of LongTermPlanningScore, PowerOrientedScore, CommunityOrientedScore to float\n",
    "df10['LongTermPlanningScore'] = df10['LongTermPlanningScore'].astype(float)\n",
    "df10['PowerOrientedScore'] = df10['PowerOrientedScore'].astype(float)\n",
    "df10['CommunityOrientedScore'] = df10['CommunityOrientedScore'].astype(float)"
   ]
  },
  {
   "cell_type": "markdown",
   "metadata": {},
   "source": [
    "##### DF 11 "
   ]
  },
  {
   "cell_type": "code",
   "execution_count": 39,
   "metadata": {},
   "outputs": [
    {
     "data": {
      "text/html": [
       "<div>\n",
       "<style scoped>\n",
       "    .dataframe tbody tr th:only-of-type {\n",
       "        vertical-align: middle;\n",
       "    }\n",
       "\n",
       "    .dataframe tbody tr th {\n",
       "        vertical-align: top;\n",
       "    }\n",
       "\n",
       "    .dataframe thead th {\n",
       "        text-align: right;\n",
       "    }\n",
       "</style>\n",
       "<table border=\"1\" class=\"dataframe\">\n",
       "  <thead>\n",
       "    <tr style=\"text-align: right;\">\n",
       "      <th></th>\n",
       "      <th>StudentID</th>\n",
       "      <th>Family_Income</th>\n",
       "    </tr>\n",
       "  </thead>\n",
       "  <tbody>\n",
       "    <tr>\n",
       "      <th>0</th>\n",
       "      <td>1</td>\n",
       "      <td>109770.95</td>\n",
       "    </tr>\n",
       "    <tr>\n",
       "      <th>1</th>\n",
       "      <td>2</td>\n",
       "      <td>58442.99</td>\n",
       "    </tr>\n",
       "    <tr>\n",
       "      <th>2</th>\n",
       "      <td>3</td>\n",
       "      <td>97125.87</td>\n",
       "    </tr>\n",
       "    <tr>\n",
       "      <th>3</th>\n",
       "      <td>4</td>\n",
       "      <td>55256.40</td>\n",
       "    </tr>\n",
       "    <tr>\n",
       "      <th>4</th>\n",
       "      <td>5</td>\n",
       "      <td>58187.16</td>\n",
       "    </tr>\n",
       "  </tbody>\n",
       "</table>\n",
       "</div>"
      ],
      "text/plain": [
       "   StudentID  Family_Income\n",
       "0          1      109770.95\n",
       "1          2       58442.99\n",
       "2          3       97125.87\n",
       "3          4       55256.40\n",
       "4          5       58187.16"
      ]
     },
     "metadata": {},
     "output_type": "display_data"
    },
    {
     "data": {
      "text/plain": [
       "(1000, 2)"
      ]
     },
     "metadata": {},
     "output_type": "display_data"
    }
   ],
   "source": [
    "# read Family_Income file for Family_Income\n",
    "df11 = pd.read_excel('Data /Family_Income.xlsx')\n",
    "df11.columns = ['StudentID', 'Family_Income']\n",
    "display(df11.head(), df11.shape)"
   ]
  },
  {
   "cell_type": "code",
   "execution_count": 40,
   "metadata": {},
   "outputs": [],
   "source": [
    "# change the datatype of StudentID to int\n",
    "df11['StudentID'] = df11['StudentID'].astype(int)\n",
    "\n",
    "# change the datatype of Family_Income to float\n",
    "df11['Family_Income'] = df11['Family_Income'].astype(float)"
   ]
  },
  {
   "cell_type": "markdown",
   "metadata": {},
   "source": [
    "##### DF 12 "
   ]
  },
  {
   "cell_type": "code",
   "execution_count": 41,
   "metadata": {},
   "outputs": [
    {
     "data": {
      "text/html": [
       "<div>\n",
       "<style scoped>\n",
       "    .dataframe tbody tr th:only-of-type {\n",
       "        vertical-align: middle;\n",
       "    }\n",
       "\n",
       "    .dataframe tbody tr th {\n",
       "        vertical-align: top;\n",
       "    }\n",
       "\n",
       "    .dataframe thead th {\n",
       "        text-align: right;\n",
       "    }\n",
       "</style>\n",
       "<table border=\"1\" class=\"dataframe\">\n",
       "  <thead>\n",
       "    <tr style=\"text-align: right;\">\n",
       "      <th></th>\n",
       "      <th>StudentID</th>\n",
       "      <th>Parent_Education_Level</th>\n",
       "    </tr>\n",
       "  </thead>\n",
       "  <tbody>\n",
       "    <tr>\n",
       "      <th>0</th>\n",
       "      <td>1</td>\n",
       "      <td>Bachelor's</td>\n",
       "    </tr>\n",
       "    <tr>\n",
       "      <th>1</th>\n",
       "      <td>2</td>\n",
       "      <td>Doctorate</td>\n",
       "    </tr>\n",
       "    <tr>\n",
       "      <th>2</th>\n",
       "      <td>3</td>\n",
       "      <td>HS or Lower</td>\n",
       "    </tr>\n",
       "    <tr>\n",
       "      <th>3</th>\n",
       "      <td>4</td>\n",
       "      <td>Master's</td>\n",
       "    </tr>\n",
       "    <tr>\n",
       "      <th>4</th>\n",
       "      <td>5</td>\n",
       "      <td>Master's</td>\n",
       "    </tr>\n",
       "  </tbody>\n",
       "</table>\n",
       "</div>"
      ],
      "text/plain": [
       "   StudentID Parent_Education_Level\n",
       "0          1             Bachelor's\n",
       "1          2              Doctorate\n",
       "2          3            HS or Lower\n",
       "3          4               Master's\n",
       "4          5               Master's"
      ]
     },
     "metadata": {},
     "output_type": "display_data"
    },
    {
     "data": {
      "text/plain": [
       "(1000, 2)"
      ]
     },
     "metadata": {},
     "output_type": "display_data"
    }
   ],
   "source": [
    "# Parents_Education file for Parent_Education_Level\n",
    "df12 = pd.read_excel('Data /Parents_Education.xlsx')\n",
    "df12.columns = ['StudentID', 'Parent_Education_Level']\n",
    "display(df12.head(), df12.shape)"
   ]
  },
  {
   "cell_type": "code",
   "execution_count": 42,
   "metadata": {},
   "outputs": [
    {
     "data": {
      "text/plain": [
       "Parent_Education_Level\n",
       "Doctorate            304\n",
       "Bachelor's           301\n",
       "HS or Lower          284\n",
       "Master's             107\n",
       "VERY HS or Lower       2\n",
       " VERY HS or Lower      1\n",
       "GREAT                  1\n",
       "Name: count, dtype: int64"
      ]
     },
     "execution_count": 42,
     "metadata": {},
     "output_type": "execute_result"
    }
   ],
   "source": [
    "df12['Parent_Education_Level'].value_counts()"
   ]
  },
  {
   "cell_type": "code",
   "execution_count": 43,
   "metadata": {},
   "outputs": [],
   "source": [
    "# change the datatype of StudentID to int\n",
    "df12['StudentID'] = df12['StudentID'].astype(int)"
   ]
  },
  {
   "cell_type": "markdown",
   "metadata": {},
   "source": [
    "##### DF 13"
   ]
  },
  {
   "cell_type": "code",
   "execution_count": 44,
   "metadata": {},
   "outputs": [
    {
     "data": {
      "text/html": [
       "<div>\n",
       "<style scoped>\n",
       "    .dataframe tbody tr th:only-of-type {\n",
       "        vertical-align: middle;\n",
       "    }\n",
       "\n",
       "    .dataframe tbody tr th {\n",
       "        vertical-align: top;\n",
       "    }\n",
       "\n",
       "    .dataframe thead th {\n",
       "        text-align: right;\n",
       "    }\n",
       "</style>\n",
       "<table border=\"1\" class=\"dataframe\">\n",
       "  <thead>\n",
       "    <tr style=\"text-align: right;\">\n",
       "      <th></th>\n",
       "      <th>StudentID</th>\n",
       "      <th>Credit_Score_Raw</th>\n",
       "      <th>Credit_Score_AgeAdj</th>\n",
       "    </tr>\n",
       "  </thead>\n",
       "  <tbody>\n",
       "    <tr>\n",
       "      <th>0</th>\n",
       "      <td>1</td>\n",
       "      <td>0.495227</td>\n",
       "      <td>0.767967</td>\n",
       "    </tr>\n",
       "    <tr>\n",
       "      <th>1</th>\n",
       "      <td>2</td>\n",
       "      <td>0.987649</td>\n",
       "      <td>0.529815</td>\n",
       "    </tr>\n",
       "    <tr>\n",
       "      <th>2</th>\n",
       "      <td>3</td>\n",
       "      <td>0.249315</td>\n",
       "      <td>0.589539</td>\n",
       "    </tr>\n",
       "    <tr>\n",
       "      <th>3</th>\n",
       "      <td>4</td>\n",
       "      <td>0.653183</td>\n",
       "      <td>0.805702</td>\n",
       "    </tr>\n",
       "    <tr>\n",
       "      <th>4</th>\n",
       "      <td>5</td>\n",
       "      <td>0.273099</td>\n",
       "      <td>0.415433</td>\n",
       "    </tr>\n",
       "  </tbody>\n",
       "</table>\n",
       "</div>"
      ],
      "text/plain": [
       "   StudentID  Credit_Score_Raw  Credit_Score_AgeAdj\n",
       "0          1          0.495227             0.767967\n",
       "1          2          0.987649             0.529815\n",
       "2          3          0.249315             0.589539\n",
       "3          4          0.653183             0.805702\n",
       "4          5          0.273099             0.415433"
      ]
     },
     "metadata": {},
     "output_type": "display_data"
    },
    {
     "data": {
      "text/plain": [
       "(1000, 3)"
      ]
     },
     "metadata": {},
     "output_type": "display_data"
    }
   ],
   "source": [
    "# read CreditRating Data 2012.xlsx for Credit_Score_Raw and Credit_Score_AgeAdj\n",
    "df13 = pd.read_excel('Data /CreditRating Data 2012.xlsx')\n",
    "df13.columns = ['StudentID', 'Credit_Score_Raw', 'Credit_Score_AgeAdj']\n",
    "display(df13.head(), df13.shape)"
   ]
  },
  {
   "cell_type": "code",
   "execution_count": 45,
   "metadata": {},
   "outputs": [
    {
     "data": {
      "text/html": [
       "<div>\n",
       "<style scoped>\n",
       "    .dataframe tbody tr th:only-of-type {\n",
       "        vertical-align: middle;\n",
       "    }\n",
       "\n",
       "    .dataframe tbody tr th {\n",
       "        vertical-align: top;\n",
       "    }\n",
       "\n",
       "    .dataframe thead th {\n",
       "        text-align: right;\n",
       "    }\n",
       "</style>\n",
       "<table border=\"1\" class=\"dataframe\">\n",
       "  <thead>\n",
       "    <tr style=\"text-align: right;\">\n",
       "      <th></th>\n",
       "      <th>StudentID</th>\n",
       "      <th>Credit_Score_Raw</th>\n",
       "      <th>Credit_Score_AgeAdj</th>\n",
       "    </tr>\n",
       "  </thead>\n",
       "  <tbody>\n",
       "    <tr>\n",
       "      <th>count</th>\n",
       "      <td>1000.000000</td>\n",
       "      <td>1000.000000</td>\n",
       "      <td>1000.000000</td>\n",
       "    </tr>\n",
       "    <tr>\n",
       "      <th>mean</th>\n",
       "      <td>500.500000</td>\n",
       "      <td>0.460375</td>\n",
       "      <td>0.550692</td>\n",
       "    </tr>\n",
       "    <tr>\n",
       "      <th>std</th>\n",
       "      <td>288.819436</td>\n",
       "      <td>0.235416</td>\n",
       "      <td>0.196417</td>\n",
       "    </tr>\n",
       "    <tr>\n",
       "      <th>min</th>\n",
       "      <td>1.000000</td>\n",
       "      <td>0.000735</td>\n",
       "      <td>0.045899</td>\n",
       "    </tr>\n",
       "    <tr>\n",
       "      <th>25%</th>\n",
       "      <td>250.750000</td>\n",
       "      <td>0.266841</td>\n",
       "      <td>0.415714</td>\n",
       "    </tr>\n",
       "    <tr>\n",
       "      <th>50%</th>\n",
       "      <td>500.500000</td>\n",
       "      <td>0.515425</td>\n",
       "      <td>0.562368</td>\n",
       "    </tr>\n",
       "    <tr>\n",
       "      <th>75%</th>\n",
       "      <td>750.250000</td>\n",
       "      <td>0.624391</td>\n",
       "      <td>0.706897</td>\n",
       "    </tr>\n",
       "    <tr>\n",
       "      <th>max</th>\n",
       "      <td>1000.000000</td>\n",
       "      <td>1.000000</td>\n",
       "      <td>0.985665</td>\n",
       "    </tr>\n",
       "  </tbody>\n",
       "</table>\n",
       "</div>"
      ],
      "text/plain": [
       "         StudentID  Credit_Score_Raw  Credit_Score_AgeAdj\n",
       "count  1000.000000       1000.000000          1000.000000\n",
       "mean    500.500000          0.460375             0.550692\n",
       "std     288.819436          0.235416             0.196417\n",
       "min       1.000000          0.000735             0.045899\n",
       "25%     250.750000          0.266841             0.415714\n",
       "50%     500.500000          0.515425             0.562368\n",
       "75%     750.250000          0.624391             0.706897\n",
       "max    1000.000000          1.000000             0.985665"
      ]
     },
     "execution_count": 45,
     "metadata": {},
     "output_type": "execute_result"
    }
   ],
   "source": [
    "df13.describe()"
   ]
  },
  {
   "cell_type": "code",
   "execution_count": 46,
   "metadata": {},
   "outputs": [],
   "source": [
    "# change the datatype of StudentID to int\n",
    "df13['StudentID'] = df13['StudentID'].astype(int)\n",
    "\n",
    "# change the datatype of Credit_Score_Raw, Credit_Score_AgeAdj to float\n",
    "df13['Credit_Score_Raw'] = df13['Credit_Score_Raw'].astype(float)"
   ]
  },
  {
   "cell_type": "markdown",
   "metadata": {},
   "source": [
    "##### DF 14"
   ]
  },
  {
   "cell_type": "code",
   "execution_count": 47,
   "metadata": {},
   "outputs": [
    {
     "data": {
      "text/html": [
       "<div>\n",
       "<style scoped>\n",
       "    .dataframe tbody tr th:only-of-type {\n",
       "        vertical-align: middle;\n",
       "    }\n",
       "\n",
       "    .dataframe tbody tr th {\n",
       "        vertical-align: top;\n",
       "    }\n",
       "\n",
       "    .dataframe thead th {\n",
       "        text-align: right;\n",
       "    }\n",
       "</style>\n",
       "<table border=\"1\" class=\"dataframe\">\n",
       "  <thead>\n",
       "    <tr style=\"text-align: right;\">\n",
       "      <th></th>\n",
       "      <th>StudentID</th>\n",
       "      <th>Loan_Amount</th>\n",
       "    </tr>\n",
       "  </thead>\n",
       "  <tbody>\n",
       "    <tr>\n",
       "      <th>0</th>\n",
       "      <td>1</td>\n",
       "      <td>19861</td>\n",
       "    </tr>\n",
       "    <tr>\n",
       "      <th>1</th>\n",
       "      <td>2</td>\n",
       "      <td>17391</td>\n",
       "    </tr>\n",
       "    <tr>\n",
       "      <th>2</th>\n",
       "      <td>3</td>\n",
       "      <td>8118</td>\n",
       "    </tr>\n",
       "    <tr>\n",
       "      <th>3</th>\n",
       "      <td>4</td>\n",
       "      <td>18905</td>\n",
       "    </tr>\n",
       "    <tr>\n",
       "      <th>4</th>\n",
       "      <td>5</td>\n",
       "      <td>16175</td>\n",
       "    </tr>\n",
       "  </tbody>\n",
       "</table>\n",
       "</div>"
      ],
      "text/plain": [
       "   StudentID  Loan_Amount\n",
       "0          1        19861\n",
       "1          2        17391\n",
       "2          3         8118\n",
       "3          4        18905\n",
       "4          5        16175"
      ]
     },
     "metadata": {},
     "output_type": "display_data"
    },
    {
     "data": {
      "text/plain": [
       "(1000, 2)"
      ]
     },
     "metadata": {},
     "output_type": "display_data"
    }
   ],
   "source": [
    "# read LoanAmount.xlsx for Loan_Amount\n",
    "df14 = pd.read_excel('Data /LoanAmount.xlsx')\n",
    "df14.columns = ['StudentID', 'Loan_Amount']\n",
    "display(df14.head(), df14.shape)"
   ]
  },
  {
   "cell_type": "code",
   "execution_count": 48,
   "metadata": {},
   "outputs": [],
   "source": [
    "# change the datatype of StudentID and Loan_Amount to int\n",
    "df14['StudentID'] = df14['StudentID'].astype(int)\n",
    "df14['Loan_Amount'] = df14['Loan_Amount'].astype(float)\n"
   ]
  },
  {
   "cell_type": "markdown",
   "metadata": {},
   "source": [
    "##### DF 15"
   ]
  },
  {
   "cell_type": "code",
   "execution_count": 49,
   "metadata": {},
   "outputs": [
    {
     "data": {
      "text/html": [
       "<div>\n",
       "<style scoped>\n",
       "    .dataframe tbody tr th:only-of-type {\n",
       "        vertical-align: middle;\n",
       "    }\n",
       "\n",
       "    .dataframe tbody tr th {\n",
       "        vertical-align: top;\n",
       "    }\n",
       "\n",
       "    .dataframe thead th {\n",
       "        text-align: right;\n",
       "    }\n",
       "</style>\n",
       "<table border=\"1\" class=\"dataframe\">\n",
       "  <thead>\n",
       "    <tr style=\"text-align: right;\">\n",
       "      <th></th>\n",
       "      <th>StudentID</th>\n",
       "      <th>HS_Math</th>\n",
       "      <th>HS_Science</th>\n",
       "      <th>HS_English</th>\n",
       "    </tr>\n",
       "  </thead>\n",
       "  <tbody>\n",
       "    <tr>\n",
       "      <th>0</th>\n",
       "      <td>1</td>\n",
       "      <td>10</td>\n",
       "      <td>10</td>\n",
       "      <td>10.0</td>\n",
       "    </tr>\n",
       "    <tr>\n",
       "      <th>1</th>\n",
       "      <td>2</td>\n",
       "      <td>9</td>\n",
       "      <td>9</td>\n",
       "      <td>10.0</td>\n",
       "    </tr>\n",
       "    <tr>\n",
       "      <th>2</th>\n",
       "      <td>3</td>\n",
       "      <td>9</td>\n",
       "      <td>6</td>\n",
       "      <td>6.0</td>\n",
       "    </tr>\n",
       "    <tr>\n",
       "      <th>3</th>\n",
       "      <td>4</td>\n",
       "      <td>10</td>\n",
       "      <td>9</td>\n",
       "      <td>9.0</td>\n",
       "    </tr>\n",
       "    <tr>\n",
       "      <th>4</th>\n",
       "      <td>5</td>\n",
       "      <td>6</td>\n",
       "      <td>8</td>\n",
       "      <td>5.0</td>\n",
       "    </tr>\n",
       "  </tbody>\n",
       "</table>\n",
       "</div>"
      ],
      "text/plain": [
       "   StudentID  HS_Math  HS_Science  HS_English\n",
       "0          1       10          10        10.0\n",
       "1          2        9           9        10.0\n",
       "2          3        9           6         6.0\n",
       "3          4       10           9         9.0\n",
       "4          5        6           8         5.0"
      ]
     },
     "metadata": {},
     "output_type": "display_data"
    },
    {
     "data": {
      "text/plain": [
       "(1000, 4)"
      ]
     },
     "metadata": {},
     "output_type": "display_data"
    }
   ],
   "source": [
    "# read HS_Academics 2012.xlsx for HS_Math, HS_Science, HS_English\n",
    "df15 = pd.read_excel('Data /HS_Academics 2012.xlsx')\n",
    "df15.columns = ['StudentID', 'HS_Math', 'HS_Science', 'HS_English']\n",
    "display(df15.head(), df15.shape)"
   ]
  },
  {
   "cell_type": "code",
   "execution_count": 50,
   "metadata": {},
   "outputs": [],
   "source": [
    "# change the datatype of StudentID to int\n",
    "df15['StudentID'] = df15['StudentID'].astype(int)\n",
    "\n",
    "# change the datatype of HS_Math, HS_Science, HS_English to float\n",
    "df15['HS_Math'] = df15['HS_Math'].astype(float)\n",
    "df15['HS_Science'] = df15['HS_Science'].astype(float)\n",
    "df15['HS_English'] = df15['HS_English'].astype(float)\n"
   ]
  },
  {
   "cell_type": "code",
   "execution_count": 51,
   "metadata": {},
   "outputs": [],
   "source": [
    "dataframes = [df1, df2, df3, df4, df5, df6, df7, df8, df9, df10, df11, df12, df13, df14, df15]\n",
    "\n",
    "# Perform the cross join\n",
    "cross_joined_df = dataframes[0]\n",
    "for df in dataframes[1:]:\n",
    "    cross_joined_df = cross_joined_df.merge(df, on='StudentID', how='outer')"
   ]
  },
  {
   "cell_type": "code",
   "execution_count": 52,
   "metadata": {},
   "outputs": [
    {
     "name": "stdout",
     "output_type": "stream",
     "text": [
      "<class 'pandas.core.frame.DataFrame'>\n",
      "RangeIndex: 1260 entries, 0 to 1259\n",
      "Data columns (total 25 columns):\n",
      " #   Column                       Non-Null Count  Dtype  \n",
      "---  ------                       --------------  -----  \n",
      " 0   StudentID                    1260 non-null   int64  \n",
      " 1   NoPaymentDue                 1260 non-null   object \n",
      " 2   Service                      370 non-null    object \n",
      " 3   Disabled                     120 non-null    object \n",
      " 4   Unemployed                   130 non-null    object \n",
      " 5   School                       1218 non-null   object \n",
      " 6   Units                        1218 non-null   float64\n",
      " 7   Country                      1260 non-null   object \n",
      " 8   Region                       1260 non-null   int64  \n",
      " 9   Marital_Status               1260 non-null   int64  \n",
      " 10  Gender                       624 non-null    object \n",
      " 11  Longest_Absence_From_School  1260 non-null   object \n",
      " 12  Filed_For_Bankruptcy         120 non-null    object \n",
      " 13  LongTermPlanningScore        1260 non-null   float64\n",
      " 14  DecisionStyle                1260 non-null   object \n",
      " 15  PowerOrientedScore           1260 non-null   float64\n",
      " 16  CommunityOrientedScore       1260 non-null   float64\n",
      " 17  Family_Income                1260 non-null   float64\n",
      " 18  Parent_Education_Level       1260 non-null   object \n",
      " 19  Credit_Score_Raw             1260 non-null   float64\n",
      " 20  Credit_Score_AgeAdj          1260 non-null   float64\n",
      " 21  Loan_Amount                  1260 non-null   float64\n",
      " 22  HS_Math                      1260 non-null   float64\n",
      " 23  HS_Science                   1260 non-null   float64\n",
      " 24  HS_English                   1242 non-null   float64\n",
      "dtypes: float64(11), int64(3), object(11)\n",
      "memory usage: 246.2+ KB\n"
     ]
    }
   ],
   "source": [
    "cross_joined_df.info()"
   ]
  },
  {
   "cell_type": "code",
   "execution_count": 53,
   "metadata": {},
   "outputs": [],
   "source": [
    "cross_joined_df.to_csv('croos_joined.csv', index=False)"
   ]
  },
  {
   "cell_type": "markdown",
   "metadata": {},
   "source": [
    "# Run from here and then run functions"
   ]
  },
  {
   "cell_type": "code",
   "execution_count": 4,
   "metadata": {},
   "outputs": [],
   "source": [
    "import pandas as pd"
   ]
  },
  {
   "cell_type": "code",
   "execution_count": 5,
   "metadata": {},
   "outputs": [],
   "source": [
    "#START FROM HERE \n",
    "data = pd.read_csv(\"croos_joined.csv\")"
   ]
  },
  {
   "cell_type": "code",
   "execution_count": 6,
   "metadata": {},
   "outputs": [
    {
     "name": "stdout",
     "output_type": "stream",
     "text": [
      "<class 'pandas.core.frame.DataFrame'>\n",
      "RangeIndex: 1260 entries, 0 to 1259\n",
      "Data columns (total 25 columns):\n",
      " #   Column                       Non-Null Count  Dtype  \n",
      "---  ------                       --------------  -----  \n",
      " 0   StudentID                    1260 non-null   int64  \n",
      " 1   NoPaymentDue                 1260 non-null   object \n",
      " 2   Service                      370 non-null    object \n",
      " 3   Disabled                     120 non-null    object \n",
      " 4   Unemployed                   130 non-null    object \n",
      " 5   School                       1218 non-null   object \n",
      " 6   Units                        1218 non-null   float64\n",
      " 7   Country                      1260 non-null   object \n",
      " 8   Region                       1260 non-null   int64  \n",
      " 9   Marital_Status               1260 non-null   int64  \n",
      " 10  Gender                       624 non-null    object \n",
      " 11  Longest_Absence_From_School  1260 non-null   int64  \n",
      " 12  Filed_For_Bankruptcy         120 non-null    object \n",
      " 13  LongTermPlanningScore        1260 non-null   float64\n",
      " 14  DecisionStyle                1260 non-null   object \n",
      " 15  PowerOrientedScore           1260 non-null   float64\n",
      " 16  CommunityOrientedScore       1260 non-null   float64\n",
      " 17  Family_Income                1260 non-null   float64\n",
      " 18  Parent_Education_Level       1260 non-null   object \n",
      " 19  Credit_Score_Raw             1260 non-null   float64\n",
      " 20  Credit_Score_AgeAdj          1260 non-null   float64\n",
      " 21  Loan_Amount                  1260 non-null   float64\n",
      " 22  HS_Math                      1260 non-null   float64\n",
      " 23  HS_Science                   1260 non-null   float64\n",
      " 24  HS_English                   1242 non-null   float64\n",
      "dtypes: float64(11), int64(4), object(10)\n",
      "memory usage: 246.2+ KB\n"
     ]
    }
   ],
   "source": [
    "data.info()"
   ]
  },
  {
   "cell_type": "code",
   "execution_count": 7,
   "metadata": {},
   "outputs": [
    {
     "data": {
      "text/html": [
       "<div>\n",
       "<style scoped>\n",
       "    .dataframe tbody tr th:only-of-type {\n",
       "        vertical-align: middle;\n",
       "    }\n",
       "\n",
       "    .dataframe tbody tr th {\n",
       "        vertical-align: top;\n",
       "    }\n",
       "\n",
       "    .dataframe thead th {\n",
       "        text-align: right;\n",
       "    }\n",
       "</style>\n",
       "<table border=\"1\" class=\"dataframe\">\n",
       "  <thead>\n",
       "    <tr style=\"text-align: right;\">\n",
       "      <th></th>\n",
       "      <th>col_name</th>\n",
       "      <th>data_type</th>\n",
       "      <th>missing_values</th>\n",
       "      <th>missing_values_percentage</th>\n",
       "      <th>unique_values</th>\n",
       "      <th>unique_values_percentage</th>\n",
       "      <th>min</th>\n",
       "      <th>max</th>\n",
       "      <th>std</th>\n",
       "    </tr>\n",
       "  </thead>\n",
       "  <tbody>\n",
       "    <tr>\n",
       "      <th>0</th>\n",
       "      <td>StudentID</td>\n",
       "      <td>int64</td>\n",
       "      <td>0</td>\n",
       "      <td>0.00</td>\n",
       "      <td>1000</td>\n",
       "      <td>79.37</td>\n",
       "      <td>1.000000</td>\n",
       "      <td>1000.000000</td>\n",
       "      <td>291.320155</td>\n",
       "    </tr>\n",
       "    <tr>\n",
       "      <th>1</th>\n",
       "      <td>NoPaymentDue</td>\n",
       "      <td>object</td>\n",
       "      <td>0</td>\n",
       "      <td>0.00</td>\n",
       "      <td>2</td>\n",
       "      <td>0.16</td>\n",
       "      <td>NaN</td>\n",
       "      <td>NaN</td>\n",
       "      <td>NaN</td>\n",
       "    </tr>\n",
       "    <tr>\n",
       "      <th>2</th>\n",
       "      <td>Service</td>\n",
       "      <td>object</td>\n",
       "      <td>890</td>\n",
       "      <td>70.63</td>\n",
       "      <td>7</td>\n",
       "      <td>0.56</td>\n",
       "      <td>NaN</td>\n",
       "      <td>NaN</td>\n",
       "      <td>NaN</td>\n",
       "    </tr>\n",
       "    <tr>\n",
       "      <th>3</th>\n",
       "      <td>Disabled</td>\n",
       "      <td>object</td>\n",
       "      <td>1140</td>\n",
       "      <td>90.48</td>\n",
       "      <td>1</td>\n",
       "      <td>0.08</td>\n",
       "      <td>NaN</td>\n",
       "      <td>NaN</td>\n",
       "      <td>NaN</td>\n",
       "    </tr>\n",
       "    <tr>\n",
       "      <th>4</th>\n",
       "      <td>Unemployed</td>\n",
       "      <td>object</td>\n",
       "      <td>1130</td>\n",
       "      <td>89.68</td>\n",
       "      <td>1</td>\n",
       "      <td>0.08</td>\n",
       "      <td>NaN</td>\n",
       "      <td>NaN</td>\n",
       "      <td>NaN</td>\n",
       "    </tr>\n",
       "    <tr>\n",
       "      <th>5</th>\n",
       "      <td>School</td>\n",
       "      <td>object</td>\n",
       "      <td>42</td>\n",
       "      <td>3.33</td>\n",
       "      <td>6</td>\n",
       "      <td>0.48</td>\n",
       "      <td>NaN</td>\n",
       "      <td>NaN</td>\n",
       "      <td>NaN</td>\n",
       "    </tr>\n",
       "    <tr>\n",
       "      <th>6</th>\n",
       "      <td>Units</td>\n",
       "      <td>float64</td>\n",
       "      <td>42</td>\n",
       "      <td>3.33</td>\n",
       "      <td>15</td>\n",
       "      <td>1.19</td>\n",
       "      <td>1.000000</td>\n",
       "      <td>15.000000</td>\n",
       "      <td>3.753829</td>\n",
       "    </tr>\n",
       "    <tr>\n",
       "      <th>7</th>\n",
       "      <td>Country</td>\n",
       "      <td>object</td>\n",
       "      <td>0</td>\n",
       "      <td>0.00</td>\n",
       "      <td>2</td>\n",
       "      <td>0.16</td>\n",
       "      <td>NaN</td>\n",
       "      <td>NaN</td>\n",
       "      <td>NaN</td>\n",
       "    </tr>\n",
       "    <tr>\n",
       "      <th>8</th>\n",
       "      <td>Region</td>\n",
       "      <td>int64</td>\n",
       "      <td>0</td>\n",
       "      <td>0.00</td>\n",
       "      <td>5</td>\n",
       "      <td>0.40</td>\n",
       "      <td>1.000000</td>\n",
       "      <td>5.000000</td>\n",
       "      <td>1.411707</td>\n",
       "    </tr>\n",
       "    <tr>\n",
       "      <th>9</th>\n",
       "      <td>Marital_Status</td>\n",
       "      <td>int64</td>\n",
       "      <td>0</td>\n",
       "      <td>0.00</td>\n",
       "      <td>3</td>\n",
       "      <td>0.24</td>\n",
       "      <td>0.000000</td>\n",
       "      <td>2.000000</td>\n",
       "      <td>0.500274</td>\n",
       "    </tr>\n",
       "    <tr>\n",
       "      <th>10</th>\n",
       "      <td>Gender</td>\n",
       "      <td>object</td>\n",
       "      <td>636</td>\n",
       "      <td>50.48</td>\n",
       "      <td>1</td>\n",
       "      <td>0.08</td>\n",
       "      <td>NaN</td>\n",
       "      <td>NaN</td>\n",
       "      <td>NaN</td>\n",
       "    </tr>\n",
       "    <tr>\n",
       "      <th>11</th>\n",
       "      <td>Longest_Absence_From_School</td>\n",
       "      <td>int64</td>\n",
       "      <td>0</td>\n",
       "      <td>0.00</td>\n",
       "      <td>10</td>\n",
       "      <td>0.79</td>\n",
       "      <td>0.000000</td>\n",
       "      <td>9.000000</td>\n",
       "      <td>2.799576</td>\n",
       "    </tr>\n",
       "    <tr>\n",
       "      <th>12</th>\n",
       "      <td>Filed_For_Bankruptcy</td>\n",
       "      <td>object</td>\n",
       "      <td>1140</td>\n",
       "      <td>90.48</td>\n",
       "      <td>1</td>\n",
       "      <td>0.08</td>\n",
       "      <td>NaN</td>\n",
       "      <td>NaN</td>\n",
       "      <td>NaN</td>\n",
       "    </tr>\n",
       "    <tr>\n",
       "      <th>13</th>\n",
       "      <td>LongTermPlanningScore</td>\n",
       "      <td>float64</td>\n",
       "      <td>0</td>\n",
       "      <td>0.00</td>\n",
       "      <td>1000</td>\n",
       "      <td>79.37</td>\n",
       "      <td>0.090978</td>\n",
       "      <td>0.996835</td>\n",
       "      <td>0.172631</td>\n",
       "    </tr>\n",
       "    <tr>\n",
       "      <th>14</th>\n",
       "      <td>DecisionStyle</td>\n",
       "      <td>object</td>\n",
       "      <td>0</td>\n",
       "      <td>0.00</td>\n",
       "      <td>2</td>\n",
       "      <td>0.16</td>\n",
       "      <td>NaN</td>\n",
       "      <td>NaN</td>\n",
       "      <td>NaN</td>\n",
       "    </tr>\n",
       "    <tr>\n",
       "      <th>15</th>\n",
       "      <td>PowerOrientedScore</td>\n",
       "      <td>float64</td>\n",
       "      <td>0</td>\n",
       "      <td>0.00</td>\n",
       "      <td>960</td>\n",
       "      <td>76.19</td>\n",
       "      <td>0.076820</td>\n",
       "      <td>1.000000</td>\n",
       "      <td>0.198915</td>\n",
       "    </tr>\n",
       "    <tr>\n",
       "      <th>16</th>\n",
       "      <td>CommunityOrientedScore</td>\n",
       "      <td>float64</td>\n",
       "      <td>0</td>\n",
       "      <td>0.00</td>\n",
       "      <td>1000</td>\n",
       "      <td>79.37</td>\n",
       "      <td>0.000108</td>\n",
       "      <td>0.932651</td>\n",
       "      <td>0.211250</td>\n",
       "    </tr>\n",
       "    <tr>\n",
       "      <th>17</th>\n",
       "      <td>Family_Income</td>\n",
       "      <td>float64</td>\n",
       "      <td>0</td>\n",
       "      <td>0.00</td>\n",
       "      <td>1000</td>\n",
       "      <td>79.37</td>\n",
       "      <td>35074.290000</td>\n",
       "      <td>114967.960000</td>\n",
       "      <td>22844.324552</td>\n",
       "    </tr>\n",
       "    <tr>\n",
       "      <th>18</th>\n",
       "      <td>Parent_Education_Level</td>\n",
       "      <td>object</td>\n",
       "      <td>0</td>\n",
       "      <td>0.00</td>\n",
       "      <td>7</td>\n",
       "      <td>0.56</td>\n",
       "      <td>NaN</td>\n",
       "      <td>NaN</td>\n",
       "      <td>NaN</td>\n",
       "    </tr>\n",
       "    <tr>\n",
       "      <th>19</th>\n",
       "      <td>Credit_Score_Raw</td>\n",
       "      <td>float64</td>\n",
       "      <td>0</td>\n",
       "      <td>0.00</td>\n",
       "      <td>996</td>\n",
       "      <td>79.05</td>\n",
       "      <td>0.000735</td>\n",
       "      <td>1.000000</td>\n",
       "      <td>0.231376</td>\n",
       "    </tr>\n",
       "    <tr>\n",
       "      <th>20</th>\n",
       "      <td>Credit_Score_AgeAdj</td>\n",
       "      <td>float64</td>\n",
       "      <td>0</td>\n",
       "      <td>0.00</td>\n",
       "      <td>1000</td>\n",
       "      <td>79.37</td>\n",
       "      <td>0.045899</td>\n",
       "      <td>0.985665</td>\n",
       "      <td>0.194809</td>\n",
       "    </tr>\n",
       "    <tr>\n",
       "      <th>21</th>\n",
       "      <td>Loan_Amount</td>\n",
       "      <td>float64</td>\n",
       "      <td>0</td>\n",
       "      <td>0.00</td>\n",
       "      <td>912</td>\n",
       "      <td>72.38</td>\n",
       "      <td>5847.000000</td>\n",
       "      <td>19992.000000</td>\n",
       "      <td>3420.960718</td>\n",
       "    </tr>\n",
       "    <tr>\n",
       "      <th>22</th>\n",
       "      <td>HS_Math</td>\n",
       "      <td>float64</td>\n",
       "      <td>0</td>\n",
       "      <td>0.00</td>\n",
       "      <td>9</td>\n",
       "      <td>0.71</td>\n",
       "      <td>2.000000</td>\n",
       "      <td>10.000000</td>\n",
       "      <td>1.680844</td>\n",
       "    </tr>\n",
       "    <tr>\n",
       "      <th>23</th>\n",
       "      <td>HS_Science</td>\n",
       "      <td>float64</td>\n",
       "      <td>0</td>\n",
       "      <td>0.00</td>\n",
       "      <td>8</td>\n",
       "      <td>0.63</td>\n",
       "      <td>3.000000</td>\n",
       "      <td>10.000000</td>\n",
       "      <td>1.604507</td>\n",
       "    </tr>\n",
       "    <tr>\n",
       "      <th>24</th>\n",
       "      <td>HS_English</td>\n",
       "      <td>float64</td>\n",
       "      <td>18</td>\n",
       "      <td>1.43</td>\n",
       "      <td>9</td>\n",
       "      <td>0.71</td>\n",
       "      <td>2.000000</td>\n",
       "      <td>10.000000</td>\n",
       "      <td>1.542925</td>\n",
       "    </tr>\n",
       "  </tbody>\n",
       "</table>\n",
       "</div>"
      ],
      "text/plain": [
       "                       col_name data_type  missing_values  \\\n",
       "0                     StudentID     int64               0   \n",
       "1                  NoPaymentDue    object               0   \n",
       "2                       Service    object             890   \n",
       "3                      Disabled    object            1140   \n",
       "4                    Unemployed    object            1130   \n",
       "5                        School    object              42   \n",
       "6                         Units   float64              42   \n",
       "7                       Country    object               0   \n",
       "8                        Region     int64               0   \n",
       "9                Marital_Status     int64               0   \n",
       "10                       Gender    object             636   \n",
       "11  Longest_Absence_From_School     int64               0   \n",
       "12         Filed_For_Bankruptcy    object            1140   \n",
       "13        LongTermPlanningScore   float64               0   \n",
       "14                DecisionStyle    object               0   \n",
       "15           PowerOrientedScore   float64               0   \n",
       "16       CommunityOrientedScore   float64               0   \n",
       "17                Family_Income   float64               0   \n",
       "18       Parent_Education_Level    object               0   \n",
       "19             Credit_Score_Raw   float64               0   \n",
       "20          Credit_Score_AgeAdj   float64               0   \n",
       "21                  Loan_Amount   float64               0   \n",
       "22                      HS_Math   float64               0   \n",
       "23                   HS_Science   float64               0   \n",
       "24                   HS_English   float64              18   \n",
       "\n",
       "    missing_values_percentage  unique_values  unique_values_percentage  \\\n",
       "0                        0.00           1000                     79.37   \n",
       "1                        0.00              2                      0.16   \n",
       "2                       70.63              7                      0.56   \n",
       "3                       90.48              1                      0.08   \n",
       "4                       89.68              1                      0.08   \n",
       "5                        3.33              6                      0.48   \n",
       "6                        3.33             15                      1.19   \n",
       "7                        0.00              2                      0.16   \n",
       "8                        0.00              5                      0.40   \n",
       "9                        0.00              3                      0.24   \n",
       "10                      50.48              1                      0.08   \n",
       "11                       0.00             10                      0.79   \n",
       "12                      90.48              1                      0.08   \n",
       "13                       0.00           1000                     79.37   \n",
       "14                       0.00              2                      0.16   \n",
       "15                       0.00            960                     76.19   \n",
       "16                       0.00           1000                     79.37   \n",
       "17                       0.00           1000                     79.37   \n",
       "18                       0.00              7                      0.56   \n",
       "19                       0.00            996                     79.05   \n",
       "20                       0.00           1000                     79.37   \n",
       "21                       0.00            912                     72.38   \n",
       "22                       0.00              9                      0.71   \n",
       "23                       0.00              8                      0.63   \n",
       "24                       1.43              9                      0.71   \n",
       "\n",
       "             min            max           std  \n",
       "0       1.000000    1000.000000    291.320155  \n",
       "1            NaN            NaN           NaN  \n",
       "2            NaN            NaN           NaN  \n",
       "3            NaN            NaN           NaN  \n",
       "4            NaN            NaN           NaN  \n",
       "5            NaN            NaN           NaN  \n",
       "6       1.000000      15.000000      3.753829  \n",
       "7            NaN            NaN           NaN  \n",
       "8       1.000000       5.000000      1.411707  \n",
       "9       0.000000       2.000000      0.500274  \n",
       "10           NaN            NaN           NaN  \n",
       "11      0.000000       9.000000      2.799576  \n",
       "12           NaN            NaN           NaN  \n",
       "13      0.090978       0.996835      0.172631  \n",
       "14           NaN            NaN           NaN  \n",
       "15      0.076820       1.000000      0.198915  \n",
       "16      0.000108       0.932651      0.211250  \n",
       "17  35074.290000  114967.960000  22844.324552  \n",
       "18           NaN            NaN           NaN  \n",
       "19      0.000735       1.000000      0.231376  \n",
       "20      0.045899       0.985665      0.194809  \n",
       "21   5847.000000   19992.000000   3420.960718  \n",
       "22      2.000000      10.000000      1.680844  \n",
       "23      3.000000      10.000000      1.604507  \n",
       "24      2.000000      10.000000      1.542925  "
      ]
     },
     "execution_count": 7,
     "metadata": {},
     "output_type": "execute_result"
    }
   ],
   "source": [
    "metadata(data)"
   ]
  },
  {
   "cell_type": "code",
   "execution_count": 62,
   "metadata": {},
   "outputs": [
    {
     "data": {
      "text/plain": [
       "(1260, 25)"
      ]
     },
     "execution_count": 62,
     "metadata": {},
     "output_type": "execute_result"
    }
   ],
   "source": [
    "data.shape"
   ]
  },
  {
   "cell_type": "code",
   "execution_count": 65,
   "metadata": {},
   "outputs": [],
   "source": [
    "data.drop_duplicates(inplace=True)"
   ]
  },
  {
   "cell_type": "code",
   "execution_count": 66,
   "metadata": {},
   "outputs": [
    {
     "data": {
      "text/plain": [
       "(1257, 25)"
      ]
     },
     "execution_count": 66,
     "metadata": {},
     "output_type": "execute_result"
    }
   ],
   "source": [
    "data.shape"
   ]
  },
  {
   "cell_type": "code",
   "execution_count": 67,
   "metadata": {},
   "outputs": [
    {
     "data": {
      "text/html": [
       "<div>\n",
       "<style scoped>\n",
       "    .dataframe tbody tr th:only-of-type {\n",
       "        vertical-align: middle;\n",
       "    }\n",
       "\n",
       "    .dataframe tbody tr th {\n",
       "        vertical-align: top;\n",
       "    }\n",
       "\n",
       "    .dataframe thead th {\n",
       "        text-align: right;\n",
       "    }\n",
       "</style>\n",
       "<table border=\"1\" class=\"dataframe\">\n",
       "  <thead>\n",
       "    <tr style=\"text-align: right;\">\n",
       "      <th></th>\n",
       "      <th>col_name</th>\n",
       "      <th>data_type</th>\n",
       "      <th>missing_values</th>\n",
       "      <th>missing_values_percentage</th>\n",
       "      <th>unique_values</th>\n",
       "      <th>unique_values_percentage</th>\n",
       "      <th>min</th>\n",
       "      <th>max</th>\n",
       "      <th>std</th>\n",
       "    </tr>\n",
       "  </thead>\n",
       "  <tbody>\n",
       "    <tr>\n",
       "      <th>0</th>\n",
       "      <td>StudentID</td>\n",
       "      <td>int64</td>\n",
       "      <td>0</td>\n",
       "      <td>0.00</td>\n",
       "      <td>1000</td>\n",
       "      <td>79.55</td>\n",
       "      <td>1.000000</td>\n",
       "      <td>1000.000000</td>\n",
       "      <td>291.160520</td>\n",
       "    </tr>\n",
       "    <tr>\n",
       "      <th>1</th>\n",
       "      <td>NoPaymentDue</td>\n",
       "      <td>object</td>\n",
       "      <td>0</td>\n",
       "      <td>0.00</td>\n",
       "      <td>2</td>\n",
       "      <td>0.16</td>\n",
       "      <td>NaN</td>\n",
       "      <td>NaN</td>\n",
       "      <td>NaN</td>\n",
       "    </tr>\n",
       "    <tr>\n",
       "      <th>2</th>\n",
       "      <td>Service</td>\n",
       "      <td>object</td>\n",
       "      <td>890</td>\n",
       "      <td>70.80</td>\n",
       "      <td>7</td>\n",
       "      <td>0.56</td>\n",
       "      <td>NaN</td>\n",
       "      <td>NaN</td>\n",
       "      <td>NaN</td>\n",
       "    </tr>\n",
       "    <tr>\n",
       "      <th>3</th>\n",
       "      <td>Disabled</td>\n",
       "      <td>object</td>\n",
       "      <td>1137</td>\n",
       "      <td>90.45</td>\n",
       "      <td>1</td>\n",
       "      <td>0.08</td>\n",
       "      <td>NaN</td>\n",
       "      <td>NaN</td>\n",
       "      <td>NaN</td>\n",
       "    </tr>\n",
       "    <tr>\n",
       "      <th>4</th>\n",
       "      <td>Unemployed</td>\n",
       "      <td>object</td>\n",
       "      <td>1127</td>\n",
       "      <td>89.66</td>\n",
       "      <td>1</td>\n",
       "      <td>0.08</td>\n",
       "      <td>NaN</td>\n",
       "      <td>NaN</td>\n",
       "      <td>NaN</td>\n",
       "    </tr>\n",
       "    <tr>\n",
       "      <th>5</th>\n",
       "      <td>School</td>\n",
       "      <td>object</td>\n",
       "      <td>42</td>\n",
       "      <td>3.34</td>\n",
       "      <td>6</td>\n",
       "      <td>0.48</td>\n",
       "      <td>NaN</td>\n",
       "      <td>NaN</td>\n",
       "      <td>NaN</td>\n",
       "    </tr>\n",
       "    <tr>\n",
       "      <th>6</th>\n",
       "      <td>Units</td>\n",
       "      <td>float64</td>\n",
       "      <td>42</td>\n",
       "      <td>3.34</td>\n",
       "      <td>15</td>\n",
       "      <td>1.19</td>\n",
       "      <td>1.000000</td>\n",
       "      <td>15.000000</td>\n",
       "      <td>3.754306</td>\n",
       "    </tr>\n",
       "    <tr>\n",
       "      <th>7</th>\n",
       "      <td>Country</td>\n",
       "      <td>object</td>\n",
       "      <td>0</td>\n",
       "      <td>0.00</td>\n",
       "      <td>2</td>\n",
       "      <td>0.16</td>\n",
       "      <td>NaN</td>\n",
       "      <td>NaN</td>\n",
       "      <td>NaN</td>\n",
       "    </tr>\n",
       "    <tr>\n",
       "      <th>8</th>\n",
       "      <td>Region</td>\n",
       "      <td>int64</td>\n",
       "      <td>0</td>\n",
       "      <td>0.00</td>\n",
       "      <td>5</td>\n",
       "      <td>0.40</td>\n",
       "      <td>1.000000</td>\n",
       "      <td>5.000000</td>\n",
       "      <td>1.410898</td>\n",
       "    </tr>\n",
       "    <tr>\n",
       "      <th>9</th>\n",
       "      <td>Marital_Status</td>\n",
       "      <td>int64</td>\n",
       "      <td>0</td>\n",
       "      <td>0.00</td>\n",
       "      <td>3</td>\n",
       "      <td>0.24</td>\n",
       "      <td>0.000000</td>\n",
       "      <td>2.000000</td>\n",
       "      <td>0.500239</td>\n",
       "    </tr>\n",
       "    <tr>\n",
       "      <th>10</th>\n",
       "      <td>Gender</td>\n",
       "      <td>object</td>\n",
       "      <td>634</td>\n",
       "      <td>50.44</td>\n",
       "      <td>1</td>\n",
       "      <td>0.08</td>\n",
       "      <td>NaN</td>\n",
       "      <td>NaN</td>\n",
       "      <td>NaN</td>\n",
       "    </tr>\n",
       "    <tr>\n",
       "      <th>11</th>\n",
       "      <td>Longest_Absence_From_School</td>\n",
       "      <td>int64</td>\n",
       "      <td>0</td>\n",
       "      <td>0.00</td>\n",
       "      <td>10</td>\n",
       "      <td>0.80</td>\n",
       "      <td>0.000000</td>\n",
       "      <td>9.000000</td>\n",
       "      <td>2.798481</td>\n",
       "    </tr>\n",
       "    <tr>\n",
       "      <th>12</th>\n",
       "      <td>Filed_For_Bankruptcy</td>\n",
       "      <td>object</td>\n",
       "      <td>1138</td>\n",
       "      <td>90.53</td>\n",
       "      <td>1</td>\n",
       "      <td>0.08</td>\n",
       "      <td>NaN</td>\n",
       "      <td>NaN</td>\n",
       "      <td>NaN</td>\n",
       "    </tr>\n",
       "    <tr>\n",
       "      <th>13</th>\n",
       "      <td>LongTermPlanningScore</td>\n",
       "      <td>float64</td>\n",
       "      <td>0</td>\n",
       "      <td>0.00</td>\n",
       "      <td>1000</td>\n",
       "      <td>79.55</td>\n",
       "      <td>0.090978</td>\n",
       "      <td>0.996835</td>\n",
       "      <td>0.172249</td>\n",
       "    </tr>\n",
       "    <tr>\n",
       "      <th>14</th>\n",
       "      <td>DecisionStyle</td>\n",
       "      <td>object</td>\n",
       "      <td>0</td>\n",
       "      <td>0.00</td>\n",
       "      <td>2</td>\n",
       "      <td>0.16</td>\n",
       "      <td>NaN</td>\n",
       "      <td>NaN</td>\n",
       "      <td>NaN</td>\n",
       "    </tr>\n",
       "    <tr>\n",
       "      <th>15</th>\n",
       "      <td>PowerOrientedScore</td>\n",
       "      <td>float64</td>\n",
       "      <td>0</td>\n",
       "      <td>0.00</td>\n",
       "      <td>960</td>\n",
       "      <td>76.37</td>\n",
       "      <td>0.076820</td>\n",
       "      <td>1.000000</td>\n",
       "      <td>0.198689</td>\n",
       "    </tr>\n",
       "    <tr>\n",
       "      <th>16</th>\n",
       "      <td>CommunityOrientedScore</td>\n",
       "      <td>float64</td>\n",
       "      <td>0</td>\n",
       "      <td>0.00</td>\n",
       "      <td>1000</td>\n",
       "      <td>79.55</td>\n",
       "      <td>0.000108</td>\n",
       "      <td>0.932651</td>\n",
       "      <td>0.211221</td>\n",
       "    </tr>\n",
       "    <tr>\n",
       "      <th>17</th>\n",
       "      <td>Family_Income</td>\n",
       "      <td>float64</td>\n",
       "      <td>0</td>\n",
       "      <td>0.00</td>\n",
       "      <td>1000</td>\n",
       "      <td>79.55</td>\n",
       "      <td>35074.290000</td>\n",
       "      <td>114967.960000</td>\n",
       "      <td>22851.390729</td>\n",
       "    </tr>\n",
       "    <tr>\n",
       "      <th>18</th>\n",
       "      <td>Parent_Education_Level</td>\n",
       "      <td>object</td>\n",
       "      <td>0</td>\n",
       "      <td>0.00</td>\n",
       "      <td>7</td>\n",
       "      <td>0.56</td>\n",
       "      <td>NaN</td>\n",
       "      <td>NaN</td>\n",
       "      <td>NaN</td>\n",
       "    </tr>\n",
       "    <tr>\n",
       "      <th>19</th>\n",
       "      <td>Credit_Score_Raw</td>\n",
       "      <td>float64</td>\n",
       "      <td>0</td>\n",
       "      <td>0.00</td>\n",
       "      <td>996</td>\n",
       "      <td>79.24</td>\n",
       "      <td>0.000735</td>\n",
       "      <td>1.000000</td>\n",
       "      <td>0.231275</td>\n",
       "    </tr>\n",
       "    <tr>\n",
       "      <th>20</th>\n",
       "      <td>Credit_Score_AgeAdj</td>\n",
       "      <td>float64</td>\n",
       "      <td>0</td>\n",
       "      <td>0.00</td>\n",
       "      <td>1000</td>\n",
       "      <td>79.55</td>\n",
       "      <td>0.045899</td>\n",
       "      <td>0.985665</td>\n",
       "      <td>0.194742</td>\n",
       "    </tr>\n",
       "    <tr>\n",
       "      <th>21</th>\n",
       "      <td>Loan_Amount</td>\n",
       "      <td>float64</td>\n",
       "      <td>0</td>\n",
       "      <td>0.00</td>\n",
       "      <td>912</td>\n",
       "      <td>72.55</td>\n",
       "      <td>5847.000000</td>\n",
       "      <td>19992.000000</td>\n",
       "      <td>3409.783972</td>\n",
       "    </tr>\n",
       "    <tr>\n",
       "      <th>22</th>\n",
       "      <td>HS_Math</td>\n",
       "      <td>float64</td>\n",
       "      <td>0</td>\n",
       "      <td>0.00</td>\n",
       "      <td>9</td>\n",
       "      <td>0.72</td>\n",
       "      <td>2.000000</td>\n",
       "      <td>10.000000</td>\n",
       "      <td>1.680445</td>\n",
       "    </tr>\n",
       "    <tr>\n",
       "      <th>23</th>\n",
       "      <td>HS_Science</td>\n",
       "      <td>float64</td>\n",
       "      <td>0</td>\n",
       "      <td>0.00</td>\n",
       "      <td>8</td>\n",
       "      <td>0.64</td>\n",
       "      <td>3.000000</td>\n",
       "      <td>10.000000</td>\n",
       "      <td>1.605035</td>\n",
       "    </tr>\n",
       "    <tr>\n",
       "      <th>24</th>\n",
       "      <td>HS_English</td>\n",
       "      <td>float64</td>\n",
       "      <td>18</td>\n",
       "      <td>1.43</td>\n",
       "      <td>9</td>\n",
       "      <td>0.72</td>\n",
       "      <td>2.000000</td>\n",
       "      <td>10.000000</td>\n",
       "      <td>1.541831</td>\n",
       "    </tr>\n",
       "  </tbody>\n",
       "</table>\n",
       "</div>"
      ],
      "text/plain": [
       "                       col_name data_type  missing_values  \\\n",
       "0                     StudentID     int64               0   \n",
       "1                  NoPaymentDue    object               0   \n",
       "2                       Service    object             890   \n",
       "3                      Disabled    object            1137   \n",
       "4                    Unemployed    object            1127   \n",
       "5                        School    object              42   \n",
       "6                         Units   float64              42   \n",
       "7                       Country    object               0   \n",
       "8                        Region     int64               0   \n",
       "9                Marital_Status     int64               0   \n",
       "10                       Gender    object             634   \n",
       "11  Longest_Absence_From_School     int64               0   \n",
       "12         Filed_For_Bankruptcy    object            1138   \n",
       "13        LongTermPlanningScore   float64               0   \n",
       "14                DecisionStyle    object               0   \n",
       "15           PowerOrientedScore   float64               0   \n",
       "16       CommunityOrientedScore   float64               0   \n",
       "17                Family_Income   float64               0   \n",
       "18       Parent_Education_Level    object               0   \n",
       "19             Credit_Score_Raw   float64               0   \n",
       "20          Credit_Score_AgeAdj   float64               0   \n",
       "21                  Loan_Amount   float64               0   \n",
       "22                      HS_Math   float64               0   \n",
       "23                   HS_Science   float64               0   \n",
       "24                   HS_English   float64              18   \n",
       "\n",
       "    missing_values_percentage  unique_values  unique_values_percentage  \\\n",
       "0                        0.00           1000                     79.55   \n",
       "1                        0.00              2                      0.16   \n",
       "2                       70.80              7                      0.56   \n",
       "3                       90.45              1                      0.08   \n",
       "4                       89.66              1                      0.08   \n",
       "5                        3.34              6                      0.48   \n",
       "6                        3.34             15                      1.19   \n",
       "7                        0.00              2                      0.16   \n",
       "8                        0.00              5                      0.40   \n",
       "9                        0.00              3                      0.24   \n",
       "10                      50.44              1                      0.08   \n",
       "11                       0.00             10                      0.80   \n",
       "12                      90.53              1                      0.08   \n",
       "13                       0.00           1000                     79.55   \n",
       "14                       0.00              2                      0.16   \n",
       "15                       0.00            960                     76.37   \n",
       "16                       0.00           1000                     79.55   \n",
       "17                       0.00           1000                     79.55   \n",
       "18                       0.00              7                      0.56   \n",
       "19                       0.00            996                     79.24   \n",
       "20                       0.00           1000                     79.55   \n",
       "21                       0.00            912                     72.55   \n",
       "22                       0.00              9                      0.72   \n",
       "23                       0.00              8                      0.64   \n",
       "24                       1.43              9                      0.72   \n",
       "\n",
       "             min            max           std  \n",
       "0       1.000000    1000.000000    291.160520  \n",
       "1            NaN            NaN           NaN  \n",
       "2            NaN            NaN           NaN  \n",
       "3            NaN            NaN           NaN  \n",
       "4            NaN            NaN           NaN  \n",
       "5            NaN            NaN           NaN  \n",
       "6       1.000000      15.000000      3.754306  \n",
       "7            NaN            NaN           NaN  \n",
       "8       1.000000       5.000000      1.410898  \n",
       "9       0.000000       2.000000      0.500239  \n",
       "10           NaN            NaN           NaN  \n",
       "11      0.000000       9.000000      2.798481  \n",
       "12           NaN            NaN           NaN  \n",
       "13      0.090978       0.996835      0.172249  \n",
       "14           NaN            NaN           NaN  \n",
       "15      0.076820       1.000000      0.198689  \n",
       "16      0.000108       0.932651      0.211221  \n",
       "17  35074.290000  114967.960000  22851.390729  \n",
       "18           NaN            NaN           NaN  \n",
       "19      0.000735       1.000000      0.231275  \n",
       "20      0.045899       0.985665      0.194742  \n",
       "21   5847.000000   19992.000000   3409.783972  \n",
       "22      2.000000      10.000000      1.680445  \n",
       "23      3.000000      10.000000      1.605035  \n",
       "24      2.000000      10.000000      1.541831  "
      ]
     },
     "execution_count": 67,
     "metadata": {},
     "output_type": "execute_result"
    }
   ],
   "source": [
    "metadata(data)"
   ]
  },
  {
   "cell_type": "markdown",
   "metadata": {},
   "source": [
    "## Data Understanding "
   ]
  },
  {
   "cell_type": "markdown",
   "metadata": {},
   "source": [
    "### 1- 8 "
   ]
  },
  {
   "cell_type": "code",
   "execution_count": null,
   "metadata": {},
   "outputs": [],
   "source": []
  },
  {
   "cell_type": "markdown",
   "metadata": {},
   "source": [
    "### 9-16"
   ]
  },
  {
   "cell_type": "markdown",
   "metadata": {},
   "source": []
  },
  {
   "cell_type": "markdown",
   "metadata": {},
   "source": [
    "### 17-24"
   ]
  },
  {
   "cell_type": "markdown",
   "metadata": {},
   "source": [
    "### Family Income "
   ]
  },
  {
   "cell_type": "code",
   "execution_count": 8,
   "metadata": {},
   "outputs": [
    {
     "name": "stdout",
     "output_type": "stream",
     "text": [
      "Mean of Family_Income: 75502.52\n",
      "Median of Family_Income: 74882.97\n",
      "Standard deviation of Family_Income: 22844.32\n",
      "Mode of Family_Income: 43171.8\n",
      "Number of outliers in Family_Income: 0\n",
      "Number of extreme outliers in Family_Income: 0\n"
     ]
    },
    {
     "data": {
      "image/png": "[encoded data removed]",
      "text/plain": [
       "<Figure size 1600x600 with 2 Axes>"
      ]
     },
     "metadata": {},
     "output_type": "display_data"
    }
   ],
   "source": [
    "data_exploration(data, 'Family_Income')"
   ]
  },
  {
   "cell_type": "code",
   "execution_count": 11,
   "metadata": {},
   "outputs": [
    {
     "data": {
      "text/plain": [
       "0"
      ]
     },
     "execution_count": 11,
     "metadata": {},
     "output_type": "execute_result"
    }
   ],
   "source": [
    "data['Family_Income'].isna().sum()"
   ]
  },
  {
   "cell_type": "markdown",
   "metadata": {},
   "source": [
    "### Parent_Education_Level"
   ]
  },
  {
   "cell_type": "code",
   "execution_count": 12,
   "metadata": {},
   "outputs": [
    {
     "name": "stdout",
     "output_type": "stream",
     "text": [
      "Counts and percentages of unique values in Parent_Education_Level:\n",
      "                        Count  Percentage\n",
      "Parent_Education_Level                   \n",
      "Doctorate                 390   30.952381\n",
      "Bachelor's                369   29.285714\n",
      "HS or Lower               361   28.650794\n",
      "Master's                  134   10.634921\n",
      "VERY HS or Lower            3    0.238095\n",
      "GREAT                       2    0.158730\n",
      " VERY HS or Lower           1    0.079365\n"
     ]
    },
    {
     "data": {
      "image/png": "[encoded data removed]",
      "text/plain": [
       "<Figure size 640x480 with 1 Axes>"
      ]
     },
     "metadata": {},
     "output_type": "display_data"
    }
   ],
   "source": [
    "data_exploration(data, 'Parent_Education_Level')"
   ]
  },
  {
   "cell_type": "markdown",
   "metadata": {},
   "source": [
    "Issues \n",
    "\n",
    "Drop both VERY HS or LOWER\n",
    "Drop GREAt\n"
   ]
  },
  {
   "cell_type": "markdown",
   "metadata": {},
   "source": [
    "### Credit_Score_Raw"
   ]
  },
  {
   "cell_type": "code",
   "execution_count": 13,
   "metadata": {},
   "outputs": [
    {
     "name": "stdout",
     "output_type": "stream",
     "text": [
      "Mean of Credit_Score_Raw: 0.46\n",
      "Median of Credit_Score_Raw: 0.52\n",
      "Standard deviation of Credit_Score_Raw: 0.23\n",
      "Mode of Credit_Score_Raw: 1.0\n",
      "Number of outliers in Credit_Score_Raw: 0\n",
      "Number of extreme outliers in Credit_Score_Raw: 0\n"
     ]
    },
    {
     "data": {
      "image/png": "[encoded data removed]",
      "text/plain": [
       "<Figure size 1600x600 with 2 Axes>"
      ]
     },
     "metadata": {},
     "output_type": "display_data"
    }
   ],
   "source": [
    "data_exploration(data, 'Credit_Score_Raw')"
   ]
  },
  {
   "cell_type": "markdown",
   "metadata": {},
   "source": [
    "### Credit_Score_AgeAdj"
   ]
  },
  {
   "cell_type": "code",
   "execution_count": 14,
   "metadata": {},
   "outputs": [
    {
     "name": "stdout",
     "output_type": "stream",
     "text": [
      "Mean of Credit_Score_AgeAdj: 0.55\n",
      "Median of Credit_Score_AgeAdj: 0.57\n",
      "Standard deviation of Credit_Score_AgeAdj: 0.19\n",
      "Mode of Credit_Score_AgeAdj: 0.3903586602137591\n",
      "Number of outliers in Credit_Score_AgeAdj: 0\n",
      "Number of extreme outliers in Credit_Score_AgeAdj: 0\n"
     ]
    },
    {
     "data": {
      "image/png": "[encoded data removed]",
      "text/plain": [
       "<Figure size 1600x600 with 2 Axes>"
      ]
     },
     "metadata": {},
     "output_type": "display_data"
    }
   ],
   "source": [
    "data_exploration(data, 'Credit_Score_AgeAdj')"
   ]
  },
  {
   "cell_type": "markdown",
   "metadata": {},
   "source": [
    "### Loan_Amount"
   ]
  },
  {
   "cell_type": "code",
   "execution_count": 15,
   "metadata": {},
   "outputs": [
    {
     "name": "stdout",
     "output_type": "stream",
     "text": [
      "Mean of Loan_Amount: 17056.05\n",
      "Median of Loan_Amount: 18329.00\n",
      "Standard deviation of Loan_Amount: 3420.96\n",
      "Mode of Loan_Amount: 19550.0\n",
      "Number of outliers in Loan_Amount: 147\n",
      "Number of extreme outliers in Loan_Amount: 147\n"
     ]
    },
    {
     "data": {
      "image/png": "[encoded data removed]",
      "text/plain": [
       "<Figure size 1600x600 with 2 Axes>"
      ]
     },
     "metadata": {},
     "output_type": "display_data"
    }
   ],
   "source": [
    "data_exploration(data, 'Loan_Amount') "
   ]
  },
  {
   "cell_type": "markdown",
   "metadata": {},
   "source": [
    "### HS_Math"
   ]
  },
  {
   "cell_type": "code",
   "execution_count": 16,
   "metadata": {},
   "outputs": [
    {
     "name": "stdout",
     "output_type": "stream",
     "text": [
      "Counts and percentages of unique values in HS_Math:\n",
      "         Count  Percentage\n",
      "HS_Math                   \n",
      "10.0       341   27.063492\n",
      "9.0        302   23.968254\n",
      "7.0        212   16.825397\n",
      "8.0        193   15.317460\n",
      "6.0        125    9.920635\n",
      "5.0         42    3.333333\n",
      "4.0         36    2.857143\n",
      "3.0          6    0.476190\n",
      "2.0          3    0.238095\n"
     ]
    },
    {
     "data": {
      "image/png": "[encoded data removed]",
      "text/plain": [
       "<Figure size 640x480 with 1 Axes>"
      ]
     },
     "metadata": {},
     "output_type": "display_data"
    }
   ],
   "source": [
    "data_exploration(data, 'HS_Math') "
   ]
  },
  {
   "cell_type": "markdown",
   "metadata": {},
   "source": [
    "### HS_Science"
   ]
  },
  {
   "cell_type": "code",
   "execution_count": 19,
   "metadata": {},
   "outputs": [
    {
     "name": "stdout",
     "output_type": "stream",
     "text": [
      "Counts and percentages of unique values in HS_Science:\n",
      "            Count  Percentage\n",
      "HS_Science                   \n",
      "10.0          304   24.126984\n",
      "9.0           294   23.333333\n",
      "7.0           230   18.253968\n",
      "8.0           226   17.936508\n",
      "6.0           129   10.238095\n",
      "5.0            42    3.333333\n",
      "4.0            28    2.222222\n",
      "3.0             7    0.555556\n"
     ]
    },
    {
     "data": {
      "image/png": "[encoded data removed]",
      "text/plain": [
       "<Figure size 640x480 with 1 Axes>"
      ]
     },
     "metadata": {},
     "output_type": "display_data"
    }
   ],
   "source": [
    "data_exploration(data, 'HS_Science')  "
   ]
  },
  {
   "cell_type": "markdown",
   "metadata": {},
   "source": [
    "### HS_English"
   ]
  },
  {
   "cell_type": "code",
   "execution_count": 18,
   "metadata": {},
   "outputs": [
    {
     "name": "stdout",
     "output_type": "stream",
     "text": [
      "Counts and percentages of unique values in HS_English:\n",
      "            Count  Percentage\n",
      "HS_English                   \n",
      "9.0           296   23.832528\n",
      "10.0          284   22.866345\n",
      "8.0           246   19.806763\n",
      "7.0           226   18.196457\n",
      "6.0           132   10.628019\n",
      "5.0            29    2.334944\n",
      "4.0            23    1.851852\n",
      "3.0             5    0.402576\n",
      "2.0             1    0.080515\n"
     ]
    },
    {
     "data": {
      "image/png": "[encoded data removed]",
      "text/plain": [
       "<Figure size 640x480 with 1 Axes>"
      ]
     },
     "metadata": {},
     "output_type": "display_data"
    }
   ],
   "source": [
    "data_exploration(data, 'HS_English')"
   ]
  },
  {
   "cell_type": "code",
   "execution_count": null,
   "metadata": {},
   "outputs": [],
   "source": [
    "# Can impute missing values with mode"
   ]
  },
  {
   "cell_type": "code",
   "execution_count": null,
   "metadata": {},
   "outputs": [],
   "source": []
  }
 ],
 "metadata": {
  "kernelspec": {
   "display_name": "Python 3",
   "language": "python",
   "name": "python3"
  },
  "language_info": {
   "codemirror_mode": {
    "name": "ipython",
    "version": 3
   },
   "file_extension": ".py",
   "mimetype": "text/x-python",
   "name": "python",
   "nbconvert_exporter": "python",
   "pygments_lexer": "ipython3",
   "version": "3.11.1"
  }
 },
 "nbformat": 4,
 "nbformat_minor": 2
}
